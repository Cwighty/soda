{
 "cells": [
  {
   "attachments": {},
   "cell_type": "markdown",
   "metadata": {},
   "source": [
    "# Questions to Answer with this Data:\n",
    "1. What are the most important features that users expect in a drink shop mobile application?\n",
    "2. What are the dealbreakers in using a drink shop mobile application?\n",
    "3. How does the frequency of visiting a drink shop relate to the importance of different features in a mobile application?\n",
    "4. How does the frequency of visiting a drink shop relate to the dealbreakers in a mobile application?\n",
    "5. What is the relationship between the importance of features and the likelihood of using a drink shop mobile application?\n",
    "6. What is the relationship between the dealbreakers in using an app and the likelihood of using a drink shop mobile application? \n",
    "\n",
    "## Other charts:\n",
    "1. Frequency of visiting a drink shop as a pie chart\n",
    "2. Mobile app usage as a pie chart\n",
    "3. Distribution of top features\n",
    "4. Distribution of dealbreakers\n",
    " "
   ]
  },
  {
   "cell_type": "code",
   "execution_count": 17,
   "metadata": {},
   "outputs": [
    {
     "name": "stdout",
     "output_type": "stream",
     "text": [
      "|    |   ID | frequency          | is_mobile_user   |   no_mobile_reason | features                                                                                                                                                                                                                   | dealbreakers                                                                                                                                                 | prototype                                                               |\n",
      "|---:|-----:|:-------------------|:-----------------|-------------------:|:---------------------------------------------------------------------------------------------------------------------------------------------------------------------------------------------------------------------------|:-------------------------------------------------------------------------------------------------------------------------------------------------------------|:------------------------------------------------------------------------|\n",
      "|  0 |    1 | Once a week        | Yes              |                nan | Ability to check a gift card balance quickly;Ability to pick a time later in the day to pick up my order;Ability to earn rewards or points for every order (digital punch card);                                           | The app does not have an easy payment method;The app does not offer rewards or discounts for loyal customers;The app crashes or freezes frequently;          | nan                                                                     |\n",
      "|  1 |    2 | Once a week        | Yes              |                nan | Ability to see what others have rated a drink before ordering;Ability to earn rewards or points for every order (digital punch card);Ability to invent your own drink, name it, and share it with friends on social media; | The app crashes or freezes frequently;The app does not have an easy payment method;The app does not allow customization or personalization of orders;        | I like how the cart is called the cupholder.                            |\n",
      "|  2 |    3 | Once a week        | Yes              |                nan | Ability to see what others have rated a drink before ordering;Ability to earn rewards or points for every order (digital punch card);Ability to pick a time later in the day to pick up my order;                          | The app crashes or freezes frequently;The app has a confusing or cluttered user interface;The app does not allow customization or personalization of orders; | nan                                                                     |\n",
      "|  3 |    4 | Once a month       | No               |                nan | User interface that is easy to use;Ability to earn rewards or points for every order (digital punch card);Ability to invent your own drink, name it, and share it with friends on social media;                            | The app does not have an easy payment method;The app crashes or freezes frequently;The app does not have a clear or transparent privacy policy;              | The app looked good. I liked how it was set up.                         |\n",
      "|  4 |    5 | A few times a year | No               |                nan | Ability to check a gift card balance quickly;Ability to pick a time later in the day to pick up my order;User interface that is easy to use;                                                                               | The app crashes or freezes frequently;The app does not have an easy payment method;The app has a confusing or cluttered user interface;                      | I like it...nice and simple. Costs visible. Easy to use and understand. |\n"
     ]
    }
   ],
   "source": [
    "import pandas as pd\n",
    "# read in xlsx file into a dataframe, first row is the header\n",
    "df = pd.read_excel('survey1cleaned.xlsx')\n",
    "# print the first 5 rows of the dataframe\\\n",
    "#print(df.iloc[0:5].to_markdown())\n",
    "\n",
    "\n",
    "# create new dataframe that contains only the frequency column\n",
    "dailyweekly = df[['frequency', 'features']]\n",
    "dealbreakerbyfreq = df[['frequency', 'dealbreakers']]\n",
    "# split column features into multiple columns by ; delimiter\n",
    "# make column a 1 if the feature is present, 0 if not\n",
    "# add new columns to dataframe\n",
    "for feature in dailyweekly['features']:\n",
    "    for f in feature.split(';'):\n",
    "        dailyweekly[f] = dailyweekly['features'].str.contains(f).astype(int)\n",
    "# drop the features column\n",
    "dailyweekly.drop('features', axis=1, inplace=True)\n",
    "dailyweekly.drop('', axis=1, inplace=True)\n",
    "\n",
    "# do the same for dealbreakers\n",
    "for dealbreaker in dealbreakerbyfreq['dealbreakers']:\n",
    "    for d in dealbreaker.split(';'):\n",
    "        dealbreakerbyfreq[d] = dealbreakerbyfreq['dealbreakers'].str.contains(d).astype(int)\n",
    "dealbreakerbyfreq.drop('dealbreakers', axis=1, inplace=True)\n",
    "dealbreakerbyfreq.head()"
   ]
  },
  {
   "cell_type": "code",
   "execution_count": 17,
   "metadata": {},
   "outputs": [
    {
     "data": {
      "image/png": "[encoded data removed]",
      "text/plain": [
       "<Figure size 800x500 with 1 Axes>"
      ]
     },
     "metadata": {},
     "output_type": "display_data"
    }
   ],
   "source": [
    "import matplotlib.pyplot as plt\n",
    "import numpy as np\n",
    "# graph the sum of each feature, ignore the frequency column and the unlabeled column\n",
    "# make it horizontal and include the count value on the bar\n",
    "dailyweekly.iloc[:,1:].sum().sort_values().plot(kind='barh', figsize=(8,5))\n",
    "for i, v in enumerate(dailyweekly.iloc[:,1:].sum().sort_values()):\n",
    "    plt.text(v + 1, i - .05 , str(v), color='green', fontweight='bold')\n",
    "plt.show()"
   ]
  },
  {
   "cell_type": "code",
   "execution_count": 18,
   "metadata": {},
   "outputs": [
    {
     "data": {
      "image/png": "[encoded data removed]",
      "text/plain": [
       "<Figure size 800x500 with 1 Axes>"
      ]
     },
     "metadata": {},
     "output_type": "display_data"
    }
   ],
   "source": [
    "# graph the sum of each dealbreaker, ignore the frequency column and the unlabeled column\n",
    "# make it horizontal and include the count value on the bar\n",
    "dealbreakerbyfreq.iloc[:,1:].sum().sort_values().plot(kind='barh', figsize=(8,5))\n",
    "for i, v in enumerate(dealbreakerbyfreq.iloc[:,1:].sum().sort_values()):\n",
    "    plt.text(v + 1, i - .05 , str(v), color='green', fontweight='bold')\n",
    "plt.show()\n"
   ]
  },
  {
   "cell_type": "code",
   "execution_count": 19,
   "metadata": {},
   "outputs": [
    {
     "data": {
      "image/png": "[encoded data removed]",
      "text/plain": [
       "<Figure size 1000x600 with 1 Axes>"
      ]
     },
     "metadata": {},
     "output_type": "display_data"
    }
   ],
   "source": [
    "import seaborn as sns\n",
    "# value count each feature column grouped by frequency\n",
    "sum_data = dailyweekly.groupby('frequency').sum()\n",
    "# make the graph horizontal\n",
    "sns.set_style('whitegrid')\n",
    "sum_data.plot(kind='bar', stacked=False, figsize=(10, 6))\n",
    "plt.title('Frequency vs. Response Sum')\n",
    "plt.xlabel('Frequency')\n",
    "plt.ylabel('Response Sum')\n",
    "plt.legend(bbox_to_anchor=(1.05, 1), loc=2, borderaxespad=0.)\n",
    "plt.show()\n",
    "\n"
   ]
  },
  {
   "cell_type": "code",
   "execution_count": 20,
   "metadata": {},
   "outputs": [
    {
     "data": {
      "application/vnd.plotly.v1+json": {
       "config": {
        "plotlyServerURL": "https://plot.ly"
       },
       "data": [
        {
         "alignmentgroup": "True",
         "hovertemplate": "variable=Ability to check a gift card balance quickly<br>frequency=%{x}<br>value=%{y}<extra></extra>",
         "legendgroup": "Ability to check a gift card balance quickly",
         "marker": {
          "color": "#636efa",
          "pattern": {
           "shape": ""
          }
         },
         "name": "Ability to check a gift card balance quickly",
         "offsetgroup": "Ability to check a gift card balance quickly",
         "orientation": "v",
         "showlegend": true,
         "textposition": "auto",
         "type": "bar",
         "x": [
          "Once a week",
          "Once a week",
          "Once a week",
          "Once a month",
          "A few times a year",
          "Once a month",
          "Once a week",
          "A few times a year",
          "Once a week",
          "Once a week",
          "Every day",
          "A few times a year",
          "Once a week",
          "A few times a year",
          "Once a week",
          "Once a week",
          "Once a month",
          "Once a month",
          "Once a week",
          "A few times a year",
          "A few times a year",
          "A few times a year",
          "Once a month",
          "Once a week",
          "Once a week",
          "Once a week",
          "A few times a year",
          "A few times a year",
          "A few times a year",
          "Once a month",
          "A few times a year",
          "Every day",
          "A few times a year",
          "Once a month",
          "A few times a year",
          "Once a month",
          "Once a week",
          "Once a month",
          "Once a week",
          "A few times a year",
          "A few times a year",
          "Once a week",
          "A few times a year",
          "A few times a year",
          "Every day",
          "A few times a year",
          "Once a month",
          "A few times a year",
          "Once a week",
          "A few times a year",
          "Once a month",
          "Once a week",
          "Once a month",
          "A few times a year",
          "A few times a year",
          "A few times a year",
          "A few times a year",
          "Once a month",
          "A few times a year",
          "Every day",
          "Once a month",
          "Once a week",
          "A few times a year",
          "A few times a year",
          "A few times a year",
          "Once a week",
          "Every day",
          "Once a month",
          "A few times a year",
          "Once a week"
         ],
         "xaxis": "x",
         "y": [
          1,
          0,
          0,
          0,
          1,
          1,
          1,
          1,
          1,
          0,
          0,
          0,
          0,
          0,
          0,
          1,
          1,
          1,
          1,
          1,
          1,
          0,
          0,
          1,
          0,
          1,
          0,
          0,
          0,
          0,
          1,
          1,
          0,
          1,
          1,
          1,
          0,
          0,
          0,
          1,
          0,
          0,
          1,
          0,
          0,
          0,
          1,
          0,
          0,
          1,
          0,
          0,
          1,
          0,
          0,
          0,
          0,
          0,
          0,
          1,
          1,
          1,
          1,
          1,
          0,
          0,
          0,
          0,
          0,
          1
         ],
         "yaxis": "y"
        },
        {
         "alignmentgroup": "True",
         "hovertemplate": "variable=Ability to pick a time later in the day to pick up my order<br>frequency=%{x}<br>value=%{y}<extra></extra>",
         "legendgroup": "Ability to pick a time later in the day to pick up my order",
         "marker": {
          "color": "#EF553B",
          "pattern": {
           "shape": ""
          }
         },
         "name": "Ability to pick a time later in the day to pick up my order",
         "offsetgroup": "Ability to pick a time later in the day to pick up my order",
         "orientation": "v",
         "showlegend": true,
         "textposition": "auto",
         "type": "bar",
         "x": [
          "Once a week",
          "Once a week",
          "Once a week",
          "Once a month",
          "A few times a year",
          "Once a month",
          "Once a week",
          "A few times a year",
          "Once a week",
          "Once a week",
          "Every day",
          "A few times a year",
          "Once a week",
          "A few times a year",
          "Once a week",
          "Once a week",
          "Once a month",
          "Once a month",
          "Once a week",
          "A few times a year",
          "A few times a year",
          "A few times a year",
          "Once a month",
          "Once a week",
          "Once a week",
          "Once a week",
          "A few times a year",
          "A few times a year",
          "A few times a year",
          "Once a month",
          "A few times a year",
          "Every day",
          "A few times a year",
          "Once a month",
          "A few times a year",
          "Once a month",
          "Once a week",
          "Once a month",
          "Once a week",
          "A few times a year",
          "A few times a year",
          "Once a week",
          "A few times a year",
          "A few times a year",
          "Every day",
          "A few times a year",
          "Once a month",
          "A few times a year",
          "Once a week",
          "A few times a year",
          "Once a month",
          "Once a week",
          "Once a month",
          "A few times a year",
          "A few times a year",
          "A few times a year",
          "A few times a year",
          "Once a month",
          "A few times a year",
          "Every day",
          "Once a month",
          "Once a week",
          "A few times a year",
          "A few times a year",
          "A few times a year",
          "Once a week",
          "Every day",
          "Once a month",
          "A few times a year",
          "Once a week"
         ],
         "xaxis": "x",
         "y": [
          1,
          0,
          1,
          0,
          1,
          0,
          0,
          0,
          0,
          0,
          0,
          0,
          1,
          0,
          1,
          0,
          0,
          0,
          0,
          0,
          0,
          0,
          0,
          0,
          0,
          0,
          0,
          1,
          0,
          1,
          0,
          1,
          0,
          0,
          0,
          1,
          0,
          0,
          0,
          0,
          1,
          0,
          0,
          0,
          1,
          1,
          0,
          1,
          0,
          0,
          0,
          1,
          0,
          0,
          0,
          0,
          1,
          0,
          0,
          0,
          0,
          1,
          0,
          1,
          0,
          0,
          0,
          0,
          0,
          0
         ],
         "yaxis": "y"
        },
        {
         "alignmentgroup": "True",
         "hovertemplate": "variable=Ability to earn rewards or points for every order (digital punch card)<br>frequency=%{x}<br>value=%{y}<extra></extra>",
         "legendgroup": "Ability to earn rewards or points for every order (digital punch card)",
         "marker": {
          "color": "#00cc96",
          "pattern": {
           "shape": ""
          }
         },
         "name": "Ability to earn rewards or points for every order (digital punch card)",
         "offsetgroup": "Ability to earn rewards or points for every order (digital punch card)",
         "orientation": "v",
         "showlegend": true,
         "textposition": "auto",
         "type": "bar",
         "x": [
          "Once a week",
          "Once a week",
          "Once a week",
          "Once a month",
          "A few times a year",
          "Once a month",
          "Once a week",
          "A few times a year",
          "Once a week",
          "Once a week",
          "Every day",
          "A few times a year",
          "Once a week",
          "A few times a year",
          "Once a week",
          "Once a week",
          "Once a month",
          "Once a month",
          "Once a week",
          "A few times a year",
          "A few times a year",
          "A few times a year",
          "Once a month",
          "Once a week",
          "Once a week",
          "Once a week",
          "A few times a year",
          "A few times a year",
          "A few times a year",
          "Once a month",
          "A few times a year",
          "Every day",
          "A few times a year",
          "Once a month",
          "A few times a year",
          "Once a month",
          "Once a week",
          "Once a month",
          "Once a week",
          "A few times a year",
          "A few times a year",
          "Once a week",
          "A few times a year",
          "A few times a year",
          "Every day",
          "A few times a year",
          "Once a month",
          "A few times a year",
          "Once a week",
          "A few times a year",
          "Once a month",
          "Once a week",
          "Once a month",
          "A few times a year",
          "A few times a year",
          "A few times a year",
          "A few times a year",
          "Once a month",
          "A few times a year",
          "Every day",
          "Once a month",
          "Once a week",
          "A few times a year",
          "A few times a year",
          "A few times a year",
          "Once a week",
          "Every day",
          "Once a month",
          "A few times a year",
          "Once a week"
         ],
         "xaxis": "x",
         "y": [
          0,
          0,
          0,
          0,
          0,
          0,
          0,
          0,
          0,
          0,
          0,
          0,
          0,
          0,
          0,
          0,
          0,
          0,
          0,
          0,
          0,
          0,
          0,
          0,
          0,
          0,
          0,
          0,
          0,
          0,
          0,
          0,
          0,
          0,
          0,
          0,
          0,
          0,
          0,
          0,
          0,
          0,
          0,
          0,
          0,
          0,
          0,
          0,
          0,
          0,
          0,
          0,
          0,
          0,
          0,
          0,
          0,
          0,
          0,
          0,
          0,
          0,
          0,
          0,
          0,
          0,
          0,
          0,
          0,
          0
         ],
         "yaxis": "y"
        },
        {
         "alignmentgroup": "True",
         "hovertemplate": "variable=Ability to see what others have rated a drink before ordering<br>frequency=%{x}<br>value=%{y}<extra></extra>",
         "legendgroup": "Ability to see what others have rated a drink before ordering",
         "marker": {
          "color": "#ab63fa",
          "pattern": {
           "shape": ""
          }
         },
         "name": "Ability to see what others have rated a drink before ordering",
         "offsetgroup": "Ability to see what others have rated a drink before ordering",
         "orientation": "v",
         "showlegend": true,
         "textposition": "auto",
         "type": "bar",
         "x": [
          "Once a week",
          "Once a week",
          "Once a week",
          "Once a month",
          "A few times a year",
          "Once a month",
          "Once a week",
          "A few times a year",
          "Once a week",
          "Once a week",
          "Every day",
          "A few times a year",
          "Once a week",
          "A few times a year",
          "Once a week",
          "Once a week",
          "Once a month",
          "Once a month",
          "Once a week",
          "A few times a year",
          "A few times a year",
          "A few times a year",
          "Once a month",
          "Once a week",
          "Once a week",
          "Once a week",
          "A few times a year",
          "A few times a year",
          "A few times a year",
          "Once a month",
          "A few times a year",
          "Every day",
          "A few times a year",
          "Once a month",
          "A few times a year",
          "Once a month",
          "Once a week",
          "Once a month",
          "Once a week",
          "A few times a year",
          "A few times a year",
          "Once a week",
          "A few times a year",
          "A few times a year",
          "Every day",
          "A few times a year",
          "Once a month",
          "A few times a year",
          "Once a week",
          "A few times a year",
          "Once a month",
          "Once a week",
          "Once a month",
          "A few times a year",
          "A few times a year",
          "A few times a year",
          "A few times a year",
          "Once a month",
          "A few times a year",
          "Every day",
          "Once a month",
          "Once a week",
          "A few times a year",
          "A few times a year",
          "A few times a year",
          "Once a week",
          "Every day",
          "Once a month",
          "A few times a year",
          "Once a week"
         ],
         "xaxis": "x",
         "y": [
          0,
          1,
          1,
          0,
          0,
          0,
          1,
          0,
          0,
          1,
          0,
          0,
          0,
          0,
          0,
          0,
          0,
          0,
          1,
          0,
          0,
          1,
          0,
          0,
          0,
          0,
          0,
          1,
          1,
          0,
          0,
          0,
          0,
          0,
          0,
          0,
          0,
          0,
          0,
          0,
          0,
          0,
          0,
          0,
          0,
          1,
          0,
          0,
          0,
          0,
          1,
          1,
          0,
          0,
          0,
          0,
          0,
          1,
          0,
          0,
          0,
          0,
          1,
          0,
          0,
          0,
          0,
          1,
          1,
          0
         ],
         "yaxis": "y"
        },
        {
         "alignmentgroup": "True",
         "hovertemplate": "variable=Ability to invent your own drink, name it, and share it with friends on social media<br>frequency=%{x}<br>value=%{y}<extra></extra>",
         "legendgroup": "Ability to invent your own drink, name it, and share it with friends on social media",
         "marker": {
          "color": "#FFA15A",
          "pattern": {
           "shape": ""
          }
         },
         "name": "Ability to invent your own drink, name it, and share it with friends on social media",
         "offsetgroup": "Ability to invent your own drink, name it, and share it with friends on social media",
         "orientation": "v",
         "showlegend": true,
         "textposition": "auto",
         "type": "bar",
         "x": [
          "Once a week",
          "Once a week",
          "Once a week",
          "Once a month",
          "A few times a year",
          "Once a month",
          "Once a week",
          "A few times a year",
          "Once a week",
          "Once a week",
          "Every day",
          "A few times a year",
          "Once a week",
          "A few times a year",
          "Once a week",
          "Once a week",
          "Once a month",
          "Once a month",
          "Once a week",
          "A few times a year",
          "A few times a year",
          "A few times a year",
          "Once a month",
          "Once a week",
          "Once a week",
          "Once a week",
          "A few times a year",
          "A few times a year",
          "A few times a year",
          "Once a month",
          "A few times a year",
          "Every day",
          "A few times a year",
          "Once a month",
          "A few times a year",
          "Once a month",
          "Once a week",
          "Once a month",
          "Once a week",
          "A few times a year",
          "A few times a year",
          "Once a week",
          "A few times a year",
          "A few times a year",
          "Every day",
          "A few times a year",
          "Once a month",
          "A few times a year",
          "Once a week",
          "A few times a year",
          "Once a month",
          "Once a week",
          "Once a month",
          "A few times a year",
          "A few times a year",
          "A few times a year",
          "A few times a year",
          "Once a month",
          "A few times a year",
          "Every day",
          "Once a month",
          "Once a week",
          "A few times a year",
          "A few times a year",
          "A few times a year",
          "Once a week",
          "Every day",
          "Once a month",
          "A few times a year",
          "Once a week"
         ],
         "xaxis": "x",
         "y": [
          0,
          1,
          0,
          1,
          0,
          0,
          0,
          0,
          0,
          0,
          0,
          0,
          0,
          0,
          1,
          1,
          0,
          0,
          0,
          0,
          1,
          0,
          0,
          0,
          1,
          1,
          0,
          0,
          0,
          0,
          1,
          0,
          0,
          0,
          0,
          0,
          0,
          0,
          1,
          1,
          0,
          0,
          0,
          0,
          0,
          0,
          0,
          0,
          0,
          0,
          0,
          0,
          0,
          0,
          0,
          0,
          0,
          0,
          0,
          0,
          0,
          0,
          0,
          0,
          0,
          0,
          1,
          1,
          0,
          0
         ],
         "yaxis": "y"
        },
        {
         "alignmentgroup": "True",
         "hovertemplate": "variable=User interface that is easy to use<br>frequency=%{x}<br>value=%{y}<extra></extra>",
         "legendgroup": "User interface that is easy to use",
         "marker": {
          "color": "#19d3f3",
          "pattern": {
           "shape": ""
          }
         },
         "name": "User interface that is easy to use",
         "offsetgroup": "User interface that is easy to use",
         "orientation": "v",
         "showlegend": true,
         "textposition": "auto",
         "type": "bar",
         "x": [
          "Once a week",
          "Once a week",
          "Once a week",
          "Once a month",
          "A few times a year",
          "Once a month",
          "Once a week",
          "A few times a year",
          "Once a week",
          "Once a week",
          "Every day",
          "A few times a year",
          "Once a week",
          "A few times a year",
          "Once a week",
          "Once a week",
          "Once a month",
          "Once a month",
          "Once a week",
          "A few times a year",
          "A few times a year",
          "A few times a year",
          "Once a month",
          "Once a week",
          "Once a week",
          "Once a week",
          "A few times a year",
          "A few times a year",
          "A few times a year",
          "Once a month",
          "A few times a year",
          "Every day",
          "A few times a year",
          "Once a month",
          "A few times a year",
          "Once a month",
          "Once a week",
          "Once a month",
          "Once a week",
          "A few times a year",
          "A few times a year",
          "Once a week",
          "A few times a year",
          "A few times a year",
          "Every day",
          "A few times a year",
          "Once a month",
          "A few times a year",
          "Once a week",
          "A few times a year",
          "Once a month",
          "Once a week",
          "Once a month",
          "A few times a year",
          "A few times a year",
          "A few times a year",
          "A few times a year",
          "Once a month",
          "A few times a year",
          "Every day",
          "Once a month",
          "Once a week",
          "A few times a year",
          "A few times a year",
          "A few times a year",
          "Once a week",
          "Every day",
          "Once a month",
          "A few times a year",
          "Once a week"
         ],
         "xaxis": "x",
         "y": [
          0,
          0,
          0,
          1,
          1,
          0,
          1,
          1,
          1,
          0,
          1,
          1,
          1,
          0,
          0,
          0,
          0,
          0,
          0,
          0,
          0,
          0,
          1,
          0,
          1,
          0,
          1,
          0,
          0,
          1,
          0,
          1,
          1,
          0,
          1,
          0,
          1,
          1,
          0,
          0,
          0,
          1,
          0,
          1,
          1,
          1,
          0,
          1,
          1,
          1,
          0,
          1,
          0,
          1,
          1,
          1,
          1,
          0,
          1,
          1,
          0,
          0,
          0,
          1,
          1,
          1,
          1,
          0,
          0,
          1
         ],
         "yaxis": "y"
        },
        {
         "alignmentgroup": "True",
         "hovertemplate": "variable=Ability to favorite drinks<br>frequency=%{x}<br>value=%{y}<extra></extra>",
         "legendgroup": "Ability to favorite drinks",
         "marker": {
          "color": "#FF6692",
          "pattern": {
           "shape": ""
          }
         },
         "name": "Ability to favorite drinks",
         "offsetgroup": "Ability to favorite drinks",
         "orientation": "v",
         "showlegend": true,
         "textposition": "auto",
         "type": "bar",
         "x": [
          "Once a week",
          "Once a week",
          "Once a week",
          "Once a month",
          "A few times a year",
          "Once a month",
          "Once a week",
          "A few times a year",
          "Once a week",
          "Once a week",
          "Every day",
          "A few times a year",
          "Once a week",
          "A few times a year",
          "Once a week",
          "Once a week",
          "Once a month",
          "Once a month",
          "Once a week",
          "A few times a year",
          "A few times a year",
          "A few times a year",
          "Once a month",
          "Once a week",
          "Once a week",
          "Once a week",
          "A few times a year",
          "A few times a year",
          "A few times a year",
          "Once a month",
          "A few times a year",
          "Every day",
          "A few times a year",
          "Once a month",
          "A few times a year",
          "Once a month",
          "Once a week",
          "Once a month",
          "Once a week",
          "A few times a year",
          "A few times a year",
          "Once a week",
          "A few times a year",
          "A few times a year",
          "Every day",
          "A few times a year",
          "Once a month",
          "A few times a year",
          "Once a week",
          "A few times a year",
          "Once a month",
          "Once a week",
          "Once a month",
          "A few times a year",
          "A few times a year",
          "A few times a year",
          "A few times a year",
          "Once a month",
          "A few times a year",
          "Every day",
          "Once a month",
          "Once a week",
          "A few times a year",
          "A few times a year",
          "A few times a year",
          "Once a week",
          "Every day",
          "Once a month",
          "A few times a year",
          "Once a week"
         ],
         "xaxis": "x",
         "y": [
          0,
          0,
          0,
          0,
          0,
          1,
          0,
          1,
          0,
          0,
          1,
          1,
          0,
          1,
          1,
          0,
          0,
          1,
          1,
          1,
          0,
          1,
          1,
          0,
          0,
          1,
          1,
          1,
          0,
          0,
          1,
          0,
          1,
          1,
          1,
          1,
          1,
          0,
          1,
          1,
          1,
          0,
          1,
          1,
          0,
          0,
          0,
          0,
          1,
          0,
          1,
          0,
          1,
          1,
          1,
          1,
          0,
          1,
          0,
          1,
          1,
          0,
          1,
          0,
          0,
          1,
          0,
          0,
          0,
          1
         ],
         "yaxis": "y"
        },
        {
         "alignmentgroup": "True",
         "hovertemplate": "variable=Ability to view nutritional information of drinks<br>frequency=%{x}<br>value=%{y}<extra></extra>",
         "legendgroup": "Ability to view nutritional information of drinks",
         "marker": {
          "color": "#B6E880",
          "pattern": {
           "shape": ""
          }
         },
         "name": "Ability to view nutritional information of drinks",
         "offsetgroup": "Ability to view nutritional information of drinks",
         "orientation": "v",
         "showlegend": true,
         "textposition": "auto",
         "type": "bar",
         "x": [
          "Once a week",
          "Once a week",
          "Once a week",
          "Once a month",
          "A few times a year",
          "Once a month",
          "Once a week",
          "A few times a year",
          "Once a week",
          "Once a week",
          "Every day",
          "A few times a year",
          "Once a week",
          "A few times a year",
          "Once a week",
          "Once a week",
          "Once a month",
          "Once a month",
          "Once a week",
          "A few times a year",
          "A few times a year",
          "A few times a year",
          "Once a month",
          "Once a week",
          "Once a week",
          "Once a week",
          "A few times a year",
          "A few times a year",
          "A few times a year",
          "Once a month",
          "A few times a year",
          "Every day",
          "A few times a year",
          "Once a month",
          "A few times a year",
          "Once a month",
          "Once a week",
          "Once a month",
          "Once a week",
          "A few times a year",
          "A few times a year",
          "Once a week",
          "A few times a year",
          "A few times a year",
          "Every day",
          "A few times a year",
          "Once a month",
          "A few times a year",
          "Once a week",
          "A few times a year",
          "Once a month",
          "Once a week",
          "Once a month",
          "A few times a year",
          "A few times a year",
          "A few times a year",
          "A few times a year",
          "Once a month",
          "A few times a year",
          "Every day",
          "Once a month",
          "Once a week",
          "A few times a year",
          "A few times a year",
          "A few times a year",
          "Once a week",
          "Every day",
          "Once a month",
          "A few times a year",
          "Once a week"
         ],
         "xaxis": "x",
         "y": [
          0,
          0,
          0,
          0,
          0,
          0,
          0,
          0,
          1,
          1,
          0,
          0,
          0,
          0,
          0,
          0,
          0,
          0,
          0,
          0,
          0,
          0,
          0,
          1,
          1,
          0,
          0,
          0,
          1,
          1,
          0,
          0,
          0,
          0,
          0,
          0,
          0,
          0,
          0,
          0,
          1,
          1,
          0,
          1,
          0,
          0,
          1,
          0,
          0,
          0,
          0,
          0,
          0,
          0,
          0,
          0,
          0,
          0,
          1,
          0,
          0,
          0,
          0,
          0,
          1,
          0,
          1,
          0,
          0,
          0
         ],
         "yaxis": "y"
        },
        {
         "alignmentgroup": "True",
         "hovertemplate": "variable=Ability to get recommendations based on your preferences or mood<br>frequency=%{x}<br>value=%{y}<extra></extra>",
         "legendgroup": "Ability to get recommendations based on your preferences or mood",
         "marker": {
          "color": "#FF97FF",
          "pattern": {
           "shape": ""
          }
         },
         "name": "Ability to get recommendations based on your preferences or mood",
         "offsetgroup": "Ability to get recommendations based on your preferences or mood",
         "orientation": "v",
         "showlegend": true,
         "textposition": "auto",
         "type": "bar",
         "x": [
          "Once a week",
          "Once a week",
          "Once a week",
          "Once a month",
          "A few times a year",
          "Once a month",
          "Once a week",
          "A few times a year",
          "Once a week",
          "Once a week",
          "Every day",
          "A few times a year",
          "Once a week",
          "A few times a year",
          "Once a week",
          "Once a week",
          "Once a month",
          "Once a month",
          "Once a week",
          "A few times a year",
          "A few times a year",
          "A few times a year",
          "Once a month",
          "Once a week",
          "Once a week",
          "Once a week",
          "A few times a year",
          "A few times a year",
          "A few times a year",
          "Once a month",
          "A few times a year",
          "Every day",
          "A few times a year",
          "Once a month",
          "A few times a year",
          "Once a month",
          "Once a week",
          "Once a month",
          "Once a week",
          "A few times a year",
          "A few times a year",
          "Once a week",
          "A few times a year",
          "A few times a year",
          "Every day",
          "A few times a year",
          "Once a month",
          "A few times a year",
          "Once a week",
          "A few times a year",
          "Once a month",
          "Once a week",
          "Once a month",
          "A few times a year",
          "A few times a year",
          "A few times a year",
          "A few times a year",
          "Once a month",
          "A few times a year",
          "Every day",
          "Once a month",
          "Once a week",
          "A few times a year",
          "A few times a year",
          "A few times a year",
          "Once a week",
          "Every day",
          "Once a month",
          "A few times a year",
          "Once a week"
         ],
         "xaxis": "x",
         "y": [
          0,
          0,
          0,
          0,
          0,
          0,
          0,
          0,
          0,
          0,
          0,
          0,
          0,
          1,
          0,
          0,
          1,
          0,
          0,
          0,
          1,
          0,
          0,
          1,
          0,
          0,
          1,
          0,
          1,
          0,
          0,
          0,
          0,
          0,
          0,
          0,
          0,
          1,
          0,
          0,
          0,
          1,
          0,
          0,
          0,
          0,
          1,
          0,
          0,
          0,
          0,
          0,
          0,
          0,
          1,
          0,
          0,
          0,
          0,
          0,
          0,
          0,
          0,
          0,
          0,
          0,
          0,
          1,
          0,
          0
         ],
         "yaxis": "y"
        },
        {
         "alignmentgroup": "True",
         "hovertemplate": "variable=Ability to dislike drinks and hide them from the menu<br>frequency=%{x}<br>value=%{y}<extra></extra>",
         "legendgroup": "Ability to dislike drinks and hide them from the menu",
         "marker": {
          "color": "#FECB52",
          "pattern": {
           "shape": ""
          }
         },
         "name": "Ability to dislike drinks and hide them from the menu",
         "offsetgroup": "Ability to dislike drinks and hide them from the menu",
         "orientation": "v",
         "showlegend": true,
         "textposition": "auto",
         "type": "bar",
         "x": [
          "Once a week",
          "Once a week",
          "Once a week",
          "Once a month",
          "A few times a year",
          "Once a month",
          "Once a week",
          "A few times a year",
          "Once a week",
          "Once a week",
          "Every day",
          "A few times a year",
          "Once a week",
          "A few times a year",
          "Once a week",
          "Once a week",
          "Once a month",
          "Once a month",
          "Once a week",
          "A few times a year",
          "A few times a year",
          "A few times a year",
          "Once a month",
          "Once a week",
          "Once a week",
          "Once a week",
          "A few times a year",
          "A few times a year",
          "A few times a year",
          "Once a month",
          "A few times a year",
          "Every day",
          "A few times a year",
          "Once a month",
          "A few times a year",
          "Once a month",
          "Once a week",
          "Once a month",
          "Once a week",
          "A few times a year",
          "A few times a year",
          "Once a week",
          "A few times a year",
          "A few times a year",
          "Every day",
          "A few times a year",
          "Once a month",
          "A few times a year",
          "Once a week",
          "A few times a year",
          "Once a month",
          "Once a week",
          "Once a month",
          "A few times a year",
          "A few times a year",
          "A few times a year",
          "A few times a year",
          "Once a month",
          "A few times a year",
          "Every day",
          "Once a month",
          "Once a week",
          "A few times a year",
          "A few times a year",
          "A few times a year",
          "Once a week",
          "Every day",
          "Once a month",
          "A few times a year",
          "Once a week"
         ],
         "xaxis": "x",
         "y": [
          0,
          0,
          0,
          0,
          0,
          0,
          0,
          0,
          0,
          0,
          0,
          0,
          0,
          0,
          0,
          0,
          0,
          0,
          0,
          0,
          0,
          0,
          0,
          0,
          0,
          0,
          0,
          0,
          0,
          0,
          0,
          0,
          0,
          0,
          0,
          0,
          0,
          0,
          0,
          0,
          0,
          0,
          1,
          0,
          0,
          0,
          0,
          0,
          0,
          0,
          1,
          0,
          0,
          0,
          0,
          0,
          0,
          0,
          0,
          0,
          0,
          0,
          0,
          0,
          0,
          0,
          0,
          0,
          1,
          0
         ],
         "yaxis": "y"
        }
       ],
       "layout": {
        "barmode": "group",
        "legend": {
         "title": {
          "text": "Features"
         },
         "tracegroupgap": 0
        },
        "margin": {
         "t": 60
        },
        "template": {
         "data": {
          "bar": [
           {
            "error_x": {
             "color": "#2a3f5f"
            },
            "error_y": {
             "color": "#2a3f5f"
            },
            "marker": {
             "line": {
              "color": "#E5ECF6",
              "width": 0.5
             },
             "pattern": {
              "fillmode": "overlay",
              "size": 10,
              "solidity": 0.2
             }
            },
            "type": "bar"
           }
          ],
          "barpolar": [
           {
            "marker": {
             "line": {
              "color": "#E5ECF6",
              "width": 0.5
             },
             "pattern": {
              "fillmode": "overlay",
              "size": 10,
              "solidity": 0.2
             }
            },
            "type": "barpolar"
           }
          ],
          "carpet": [
           {
            "aaxis": {
             "endlinecolor": "#2a3f5f",
             "gridcolor": "white",
             "linecolor": "white",
             "minorgridcolor": "white",
             "startlinecolor": "#2a3f5f"
            },
            "baxis": {
             "endlinecolor": "#2a3f5f",
             "gridcolor": "white",
             "linecolor": "white",
             "minorgridcolor": "white",
             "startlinecolor": "#2a3f5f"
            },
            "type": "carpet"
           }
          ],
          "choropleth": [
           {
            "colorbar": {
             "outlinewidth": 0,
             "ticks": ""
            },
            "type": "choropleth"
           }
          ],
          "contour": [
           {
            "colorbar": {
             "outlinewidth": 0,
             "ticks": ""
            },
            "colorscale": [
             [
              0,
              "#0d0887"
             ],
             [
              0.1111111111111111,
              "#46039f"
             ],
             [
              0.2222222222222222,
              "#7201a8"
             ],
             [
              0.3333333333333333,
              "#9c179e"
             ],
             [
              0.4444444444444444,
              "#bd3786"
             ],
             [
              0.5555555555555556,
              "#d8576b"
             ],
             [
              0.6666666666666666,
              "#ed7953"
             ],
             [
              0.7777777777777778,
              "#fb9f3a"
             ],
             [
              0.8888888888888888,
              "#fdca26"
             ],
             [
              1,
              "#f0f921"
             ]
            ],
            "type": "contour"
           }
          ],
          "contourcarpet": [
           {
            "colorbar": {
             "outlinewidth": 0,
             "ticks": ""
            },
            "type": "contourcarpet"
           }
          ],
          "heatmap": [
           {
            "colorbar": {
             "outlinewidth": 0,
             "ticks": ""
            },
            "colorscale": [
             [
              0,
              "#0d0887"
             ],
             [
              0.1111111111111111,
              "#46039f"
             ],
             [
              0.2222222222222222,
              "#7201a8"
             ],
             [
              0.3333333333333333,
              "#9c179e"
             ],
             [
              0.4444444444444444,
              "#bd3786"
             ],
             [
              0.5555555555555556,
              "#d8576b"
             ],
             [
              0.6666666666666666,
              "#ed7953"
             ],
             [
              0.7777777777777778,
              "#fb9f3a"
             ],
             [
              0.8888888888888888,
              "#fdca26"
             ],
             [
              1,
              "#f0f921"
             ]
            ],
            "type": "heatmap"
           }
          ],
          "heatmapgl": [
           {
            "colorbar": {
             "outlinewidth": 0,
             "ticks": ""
            },
            "colorscale": [
             [
              0,
              "#0d0887"
             ],
             [
              0.1111111111111111,
              "#46039f"
             ],
             [
              0.2222222222222222,
              "#7201a8"
             ],
             [
              0.3333333333333333,
              "#9c179e"
             ],
             [
              0.4444444444444444,
              "#bd3786"
             ],
             [
              0.5555555555555556,
              "#d8576b"
             ],
             [
              0.6666666666666666,
              "#ed7953"
             ],
             [
              0.7777777777777778,
              "#fb9f3a"
             ],
             [
              0.8888888888888888,
              "#fdca26"
             ],
             [
              1,
              "#f0f921"
             ]
            ],
            "type": "heatmapgl"
           }
          ],
          "histogram": [
           {
            "marker": {
             "pattern": {
              "fillmode": "overlay",
              "size": 10,
              "solidity": 0.2
             }
            },
            "type": "histogram"
           }
          ],
          "histogram2d": [
           {
            "colorbar": {
             "outlinewidth": 0,
             "ticks": ""
            },
            "colorscale": [
             [
              0,
              "#0d0887"
             ],
             [
              0.1111111111111111,
              "#46039f"
             ],
             [
              0.2222222222222222,
              "#7201a8"
             ],
             [
              0.3333333333333333,
              "#9c179e"
             ],
             [
              0.4444444444444444,
              "#bd3786"
             ],
             [
              0.5555555555555556,
              "#d8576b"
             ],
             [
              0.6666666666666666,
              "#ed7953"
             ],
             [
              0.7777777777777778,
              "#fb9f3a"
             ],
             [
              0.8888888888888888,
              "#fdca26"
             ],
             [
              1,
              "#f0f921"
             ]
            ],
            "type": "histogram2d"
           }
          ],
          "histogram2dcontour": [
           {
            "colorbar": {
             "outlinewidth": 0,
             "ticks": ""
            },
            "colorscale": [
             [
              0,
              "#0d0887"
             ],
             [
              0.1111111111111111,
              "#46039f"
             ],
             [
              0.2222222222222222,
              "#7201a8"
             ],
             [
              0.3333333333333333,
              "#9c179e"
             ],
             [
              0.4444444444444444,
              "#bd3786"
             ],
             [
              0.5555555555555556,
              "#d8576b"
             ],
             [
              0.6666666666666666,
              "#ed7953"
             ],
             [
              0.7777777777777778,
              "#fb9f3a"
             ],
             [
              0.8888888888888888,
              "#fdca26"
             ],
             [
              1,
              "#f0f921"
             ]
            ],
            "type": "histogram2dcontour"
           }
          ],
          "mesh3d": [
           {
            "colorbar": {
             "outlinewidth": 0,
             "ticks": ""
            },
            "type": "mesh3d"
           }
          ],
          "parcoords": [
           {
            "line": {
             "colorbar": {
              "outlinewidth": 0,
              "ticks": ""
             }
            },
            "type": "parcoords"
           }
          ],
          "pie": [
           {
            "automargin": true,
            "type": "pie"
           }
          ],
          "scatter": [
           {
            "fillpattern": {
             "fillmode": "overlay",
             "size": 10,
             "solidity": 0.2
            },
            "type": "scatter"
           }
          ],
          "scatter3d": [
           {
            "line": {
             "colorbar": {
              "outlinewidth": 0,
              "ticks": ""
             }
            },
            "marker": {
             "colorbar": {
              "outlinewidth": 0,
              "ticks": ""
             }
            },
            "type": "scatter3d"
           }
          ],
          "scattercarpet": [
           {
            "marker": {
             "colorbar": {
              "outlinewidth": 0,
              "ticks": ""
             }
            },
            "type": "scattercarpet"
           }
          ],
          "scattergeo": [
           {
            "marker": {
             "colorbar": {
              "outlinewidth": 0,
              "ticks": ""
             }
            },
            "type": "scattergeo"
           }
          ],
          "scattergl": [
           {
            "marker": {
             "colorbar": {
              "outlinewidth": 0,
              "ticks": ""
             }
            },
            "type": "scattergl"
           }
          ],
          "scattermapbox": [
           {
            "marker": {
             "colorbar": {
              "outlinewidth": 0,
              "ticks": ""
             }
            },
            "type": "scattermapbox"
           }
          ],
          "scatterpolar": [
           {
            "marker": {
             "colorbar": {
              "outlinewidth": 0,
              "ticks": ""
             }
            },
            "type": "scatterpolar"
           }
          ],
          "scatterpolargl": [
           {
            "marker": {
             "colorbar": {
              "outlinewidth": 0,
              "ticks": ""
             }
            },
            "type": "scatterpolargl"
           }
          ],
          "scatterternary": [
           {
            "marker": {
             "colorbar": {
              "outlinewidth": 0,
              "ticks": ""
             }
            },
            "type": "scatterternary"
           }
          ],
          "surface": [
           {
            "colorbar": {
             "outlinewidth": 0,
             "ticks": ""
            },
            "colorscale": [
             [
              0,
              "#0d0887"
             ],
             [
              0.1111111111111111,
              "#46039f"
             ],
             [
              0.2222222222222222,
              "#7201a8"
             ],
             [
              0.3333333333333333,
              "#9c179e"
             ],
             [
              0.4444444444444444,
              "#bd3786"
             ],
             [
              0.5555555555555556,
              "#d8576b"
             ],
             [
              0.6666666666666666,
              "#ed7953"
             ],
             [
              0.7777777777777778,
              "#fb9f3a"
             ],
             [
              0.8888888888888888,
              "#fdca26"
             ],
             [
              1,
              "#f0f921"
             ]
            ],
            "type": "surface"
           }
          ],
          "table": [
           {
            "cells": {
             "fill": {
              "color": "#EBF0F8"
             },
             "line": {
              "color": "white"
             }
            },
            "header": {
             "fill": {
              "color": "#C8D4E3"
             },
             "line": {
              "color": "white"
             }
            },
            "type": "table"
           }
          ]
         },
         "layout": {
          "annotationdefaults": {
           "arrowcolor": "#2a3f5f",
           "arrowhead": 0,
           "arrowwidth": 1
          },
          "autotypenumbers": "strict",
          "coloraxis": {
           "colorbar": {
            "outlinewidth": 0,
            "ticks": ""
           }
          },
          "colorscale": {
           "diverging": [
            [
             0,
             "#8e0152"
            ],
            [
             0.1,
             "#c51b7d"
            ],
            [
             0.2,
             "#de77ae"
            ],
            [
             0.3,
             "#f1b6da"
            ],
            [
             0.4,
             "#fde0ef"
            ],
            [
             0.5,
             "#f7f7f7"
            ],
            [
             0.6,
             "#e6f5d0"
            ],
            [
             0.7,
             "#b8e186"
            ],
            [
             0.8,
             "#7fbc41"
            ],
            [
             0.9,
             "#4d9221"
            ],
            [
             1,
             "#276419"
            ]
           ],
           "sequential": [
            [
             0,
             "#0d0887"
            ],
            [
             0.1111111111111111,
             "#46039f"
            ],
            [
             0.2222222222222222,
             "#7201a8"
            ],
            [
             0.3333333333333333,
             "#9c179e"
            ],
            [
             0.4444444444444444,
             "#bd3786"
            ],
            [
             0.5555555555555556,
             "#d8576b"
            ],
            [
             0.6666666666666666,
             "#ed7953"
            ],
            [
             0.7777777777777778,
             "#fb9f3a"
            ],
            [
             0.8888888888888888,
             "#fdca26"
            ],
            [
             1,
             "#f0f921"
            ]
           ],
           "sequentialminus": [
            [
             0,
             "#0d0887"
            ],
            [
             0.1111111111111111,
             "#46039f"
            ],
            [
             0.2222222222222222,
             "#7201a8"
            ],
            [
             0.3333333333333333,
             "#9c179e"
            ],
            [
             0.4444444444444444,
             "#bd3786"
            ],
            [
             0.5555555555555556,
             "#d8576b"
            ],
            [
             0.6666666666666666,
             "#ed7953"
            ],
            [
             0.7777777777777778,
             "#fb9f3a"
            ],
            [
             0.8888888888888888,
             "#fdca26"
            ],
            [
             1,
             "#f0f921"
            ]
           ]
          },
          "colorway": [
           "#636efa",
           "#EF553B",
           "#00cc96",
           "#ab63fa",
           "#FFA15A",
           "#19d3f3",
           "#FF6692",
           "#B6E880",
           "#FF97FF",
           "#FECB52"
          ],
          "font": {
           "color": "#2a3f5f"
          },
          "geo": {
           "bgcolor": "white",
           "lakecolor": "white",
           "landcolor": "#E5ECF6",
           "showlakes": true,
           "showland": true,
           "subunitcolor": "white"
          },
          "hoverlabel": {
           "align": "left"
          },
          "hovermode": "closest",
          "mapbox": {
           "style": "light"
          },
          "paper_bgcolor": "white",
          "plot_bgcolor": "#E5ECF6",
          "polar": {
           "angularaxis": {
            "gridcolor": "white",
            "linecolor": "white",
            "ticks": ""
           },
           "bgcolor": "#E5ECF6",
           "radialaxis": {
            "gridcolor": "white",
            "linecolor": "white",
            "ticks": ""
           }
          },
          "scene": {
           "xaxis": {
            "backgroundcolor": "#E5ECF6",
            "gridcolor": "white",
            "gridwidth": 2,
            "linecolor": "white",
            "showbackground": true,
            "ticks": "",
            "zerolinecolor": "white"
           },
           "yaxis": {
            "backgroundcolor": "#E5ECF6",
            "gridcolor": "white",
            "gridwidth": 2,
            "linecolor": "white",
            "showbackground": true,
            "ticks": "",
            "zerolinecolor": "white"
           },
           "zaxis": {
            "backgroundcolor": "#E5ECF6",
            "gridcolor": "white",
            "gridwidth": 2,
            "linecolor": "white",
            "showbackground": true,
            "ticks": "",
            "zerolinecolor": "white"
           }
          },
          "shapedefaults": {
           "line": {
            "color": "#2a3f5f"
           }
          },
          "ternary": {
           "aaxis": {
            "gridcolor": "white",
            "linecolor": "white",
            "ticks": ""
           },
           "baxis": {
            "gridcolor": "white",
            "linecolor": "white",
            "ticks": ""
           },
           "bgcolor": "#E5ECF6",
           "caxis": {
            "gridcolor": "white",
            "linecolor": "white",
            "ticks": ""
           }
          },
          "title": {
           "x": 0.05
          },
          "xaxis": {
           "automargin": true,
           "gridcolor": "white",
           "linecolor": "white",
           "ticks": "",
           "title": {
            "standoff": 15
           },
           "zerolinecolor": "white",
           "zerolinewidth": 2
          },
          "yaxis": {
           "automargin": true,
           "gridcolor": "white",
           "linecolor": "white",
           "ticks": "",
           "title": {
            "standoff": 15
           },
           "zerolinecolor": "white",
           "zerolinewidth": 2
          }
         }
        },
        "title": {
         "text": "Frequency of Soda Shack Visits and Requested Features"
        },
        "xaxis": {
         "anchor": "y",
         "domain": [
          0,
          1
         ],
         "title": {
          "text": "Frequency"
         }
        },
        "yaxis": {
         "anchor": "x",
         "domain": [
          0,
          1
         ],
         "title": {
          "text": "Count"
         }
        }
       }
      }
     },
     "metadata": {},
     "output_type": "display_data"
    }
   ],
   "source": [
    "# interactively plot the features grouped by frequency\n",
    "import plotly.express as px\n",
    "fig = px.bar(dailyweekly, x=\"frequency\", y=dailyweekly.columns[1:], barmode=\"group\")\n",
    "fig.update_layout(xaxis_title=\"Frequency\", yaxis_title=\"Count\")\n",
    "fig.update_layout(title_text='Frequency of Soda Shack Visits and Requested Features')\n",
    "fig.update_layout(legend_title_text='Features')\n",
    "fig.show()"
   ]
  },
  {
   "cell_type": "code",
   "execution_count": 28,
   "metadata": {},
   "outputs": [
    {
     "data": {
      "application/vnd.plotly.v1+json": {
       "config": {
        "plotlyServerURL": "https://plot.ly"
       },
       "data": [
        {
         "alignmentgroup": "True",
         "hovertemplate": "variable=Ability to check a gift card balance quickly<br>frequency=%{x}<br>value=%{y}<extra></extra>",
         "legendgroup": "Ability to check a gift card balance quickly",
         "marker": {
          "color": "#636efa",
          "pattern": {
           "shape": ""
          }
         },
         "name": "Ability to check a gift card balance quickly",
         "offsetgroup": "Ability to check a gift card balance quickly",
         "orientation": "v",
         "showlegend": true,
         "textposition": "auto",
         "type": "bar",
         "x": [
          "Once a week",
          "Once a week",
          "Once a week",
          "Once a week",
          "Once a week",
          "Once a week",
          "Every day",
          "Once a week",
          "Once a week",
          "Once a week",
          "Once a week",
          "Once a week",
          "Once a week",
          "Once a week",
          "Every day",
          "Once a week",
          "Once a week",
          "Once a week",
          "Every day",
          "Once a week",
          "Once a week",
          "Every day",
          "Once a week",
          "Once a week",
          "Every day",
          "Once a week"
         ],
         "xaxis": "x",
         "y": [
          1,
          0,
          0,
          1,
          1,
          0,
          0,
          0,
          0,
          1,
          1,
          1,
          0,
          1,
          1,
          0,
          0,
          0,
          0,
          0,
          0,
          1,
          1,
          0,
          0,
          1
         ],
         "yaxis": "y"
        },
        {
         "alignmentgroup": "True",
         "hovertemplate": "variable=Ability to pick a time later in the day to pick up my order<br>frequency=%{x}<br>value=%{y}<extra></extra>",
         "legendgroup": "Ability to pick a time later in the day to pick up my order",
         "marker": {
          "color": "#EF553B",
          "pattern": {
           "shape": ""
          }
         },
         "name": "Ability to pick a time later in the day to pick up my order",
         "offsetgroup": "Ability to pick a time later in the day to pick up my order",
         "orientation": "v",
         "showlegend": true,
         "textposition": "auto",
         "type": "bar",
         "x": [
          "Once a week",
          "Once a week",
          "Once a week",
          "Once a week",
          "Once a week",
          "Once a week",
          "Every day",
          "Once a week",
          "Once a week",
          "Once a week",
          "Once a week",
          "Once a week",
          "Once a week",
          "Once a week",
          "Every day",
          "Once a week",
          "Once a week",
          "Once a week",
          "Every day",
          "Once a week",
          "Once a week",
          "Every day",
          "Once a week",
          "Once a week",
          "Every day",
          "Once a week"
         ],
         "xaxis": "x",
         "y": [
          1,
          0,
          1,
          0,
          0,
          0,
          0,
          1,
          1,
          0,
          0,
          0,
          0,
          0,
          1,
          0,
          0,
          0,
          1,
          0,
          1,
          0,
          1,
          0,
          0,
          0
         ],
         "yaxis": "y"
        },
        {
         "alignmentgroup": "True",
         "hovertemplate": "variable=Ability to earn rewards or points for every order (digital punch card)<br>frequency=%{x}<br>value=%{y}<extra></extra>",
         "legendgroup": "Ability to earn rewards or points for every order (digital punch card)",
         "marker": {
          "color": "#00cc96",
          "pattern": {
           "shape": ""
          }
         },
         "name": "Ability to earn rewards or points for every order (digital punch card)",
         "offsetgroup": "Ability to earn rewards or points for every order (digital punch card)",
         "orientation": "v",
         "showlegend": true,
         "textposition": "auto",
         "type": "bar",
         "x": [
          "Once a week",
          "Once a week",
          "Once a week",
          "Once a week",
          "Once a week",
          "Once a week",
          "Every day",
          "Once a week",
          "Once a week",
          "Once a week",
          "Once a week",
          "Once a week",
          "Once a week",
          "Once a week",
          "Every day",
          "Once a week",
          "Once a week",
          "Once a week",
          "Every day",
          "Once a week",
          "Once a week",
          "Every day",
          "Once a week",
          "Once a week",
          "Every day",
          "Once a week"
         ],
         "xaxis": "x",
         "y": [
          0,
          0,
          0,
          0,
          0,
          0,
          0,
          0,
          0,
          0,
          0,
          0,
          0,
          0,
          0,
          0,
          0,
          0,
          0,
          0,
          0,
          0,
          0,
          0,
          0,
          0
         ],
         "yaxis": "y"
        },
        {
         "alignmentgroup": "True",
         "hovertemplate": "variable=Ability to see what others have rated a drink before ordering<br>frequency=%{x}<br>value=%{y}<extra></extra>",
         "legendgroup": "Ability to see what others have rated a drink before ordering",
         "marker": {
          "color": "#ab63fa",
          "pattern": {
           "shape": ""
          }
         },
         "name": "Ability to see what others have rated a drink before ordering",
         "offsetgroup": "Ability to see what others have rated a drink before ordering",
         "orientation": "v",
         "showlegend": true,
         "textposition": "auto",
         "type": "bar",
         "x": [
          "Once a week",
          "Once a week",
          "Once a week",
          "Once a week",
          "Once a week",
          "Once a week",
          "Every day",
          "Once a week",
          "Once a week",
          "Once a week",
          "Once a week",
          "Once a week",
          "Once a week",
          "Once a week",
          "Every day",
          "Once a week",
          "Once a week",
          "Once a week",
          "Every day",
          "Once a week",
          "Once a week",
          "Every day",
          "Once a week",
          "Once a week",
          "Every day",
          "Once a week"
         ],
         "xaxis": "x",
         "y": [
          0,
          1,
          1,
          1,
          0,
          1,
          0,
          0,
          0,
          0,
          1,
          0,
          0,
          0,
          0,
          0,
          0,
          0,
          0,
          0,
          1,
          0,
          0,
          0,
          0,
          0
         ],
         "yaxis": "y"
        },
        {
         "alignmentgroup": "True",
         "hovertemplate": "variable=Ability to invent your own drink, name it, and share it with friends on social media<br>frequency=%{x}<br>value=%{y}<extra></extra>",
         "legendgroup": "Ability to invent your own drink, name it, and share it with friends on social media",
         "marker": {
          "color": "#FFA15A",
          "pattern": {
           "shape": ""
          }
         },
         "name": "Ability to invent your own drink, name it, and share it with friends on social media",
         "offsetgroup": "Ability to invent your own drink, name it, and share it with friends on social media",
         "orientation": "v",
         "showlegend": true,
         "textposition": "auto",
         "type": "bar",
         "x": [
          "Once a week",
          "Once a week",
          "Once a week",
          "Once a week",
          "Once a week",
          "Once a week",
          "Every day",
          "Once a week",
          "Once a week",
          "Once a week",
          "Once a week",
          "Once a week",
          "Once a week",
          "Once a week",
          "Every day",
          "Once a week",
          "Once a week",
          "Once a week",
          "Every day",
          "Once a week",
          "Once a week",
          "Every day",
          "Once a week",
          "Once a week",
          "Every day",
          "Once a week"
         ],
         "xaxis": "x",
         "y": [
          0,
          1,
          0,
          0,
          0,
          0,
          0,
          0,
          1,
          1,
          0,
          0,
          1,
          1,
          0,
          0,
          1,
          0,
          0,
          0,
          0,
          0,
          0,
          0,
          1,
          0
         ],
         "yaxis": "y"
        },
        {
         "alignmentgroup": "True",
         "hovertemplate": "variable=User interface that is easy to use<br>frequency=%{x}<br>value=%{y}<extra></extra>",
         "legendgroup": "User interface that is easy to use",
         "marker": {
          "color": "#19d3f3",
          "pattern": {
           "shape": ""
          }
         },
         "name": "User interface that is easy to use",
         "offsetgroup": "User interface that is easy to use",
         "orientation": "v",
         "showlegend": true,
         "textposition": "auto",
         "type": "bar",
         "x": [
          "Once a week",
          "Once a week",
          "Once a week",
          "Once a week",
          "Once a week",
          "Once a week",
          "Every day",
          "Once a week",
          "Once a week",
          "Once a week",
          "Once a week",
          "Once a week",
          "Once a week",
          "Once a week",
          "Every day",
          "Once a week",
          "Once a week",
          "Once a week",
          "Every day",
          "Once a week",
          "Once a week",
          "Every day",
          "Once a week",
          "Once a week",
          "Every day",
          "Once a week"
         ],
         "xaxis": "x",
         "y": [
          0,
          0,
          0,
          1,
          1,
          0,
          1,
          1,
          0,
          0,
          0,
          0,
          1,
          0,
          1,
          1,
          0,
          1,
          1,
          1,
          1,
          1,
          0,
          1,
          1,
          1
         ],
         "yaxis": "y"
        },
        {
         "alignmentgroup": "True",
         "hovertemplate": "variable=Ability to favorite drinks<br>frequency=%{x}<br>value=%{y}<extra></extra>",
         "legendgroup": "Ability to favorite drinks",
         "marker": {
          "color": "#FF6692",
          "pattern": {
           "shape": ""
          }
         },
         "name": "Ability to favorite drinks",
         "offsetgroup": "Ability to favorite drinks",
         "orientation": "v",
         "showlegend": true,
         "textposition": "auto",
         "type": "bar",
         "x": [
          "Once a week",
          "Once a week",
          "Once a week",
          "Once a week",
          "Once a week",
          "Once a week",
          "Every day",
          "Once a week",
          "Once a week",
          "Once a week",
          "Once a week",
          "Once a week",
          "Once a week",
          "Once a week",
          "Every day",
          "Once a week",
          "Once a week",
          "Once a week",
          "Every day",
          "Once a week",
          "Once a week",
          "Every day",
          "Once a week",
          "Once a week",
          "Every day",
          "Once a week"
         ],
         "xaxis": "x",
         "y": [
          0,
          0,
          0,
          0,
          0,
          0,
          1,
          0,
          1,
          0,
          1,
          0,
          0,
          1,
          0,
          1,
          1,
          0,
          0,
          1,
          0,
          1,
          0,
          1,
          0,
          1
         ],
         "yaxis": "y"
        },
        {
         "alignmentgroup": "True",
         "hovertemplate": "variable=Ability to view nutritional information of drinks<br>frequency=%{x}<br>value=%{y}<extra></extra>",
         "legendgroup": "Ability to view nutritional information of drinks",
         "marker": {
          "color": "#B6E880",
          "pattern": {
           "shape": ""
          }
         },
         "name": "Ability to view nutritional information of drinks",
         "offsetgroup": "Ability to view nutritional information of drinks",
         "orientation": "v",
         "showlegend": true,
         "textposition": "auto",
         "type": "bar",
         "x": [
          "Once a week",
          "Once a week",
          "Once a week",
          "Once a week",
          "Once a week",
          "Once a week",
          "Every day",
          "Once a week",
          "Once a week",
          "Once a week",
          "Once a week",
          "Once a week",
          "Once a week",
          "Once a week",
          "Every day",
          "Once a week",
          "Once a week",
          "Once a week",
          "Every day",
          "Once a week",
          "Once a week",
          "Every day",
          "Once a week",
          "Once a week",
          "Every day",
          "Once a week"
         ],
         "xaxis": "x",
         "y": [
          0,
          0,
          0,
          0,
          1,
          1,
          0,
          0,
          0,
          0,
          0,
          1,
          1,
          0,
          0,
          0,
          0,
          1,
          0,
          0,
          0,
          0,
          0,
          0,
          1,
          0
         ],
         "yaxis": "y"
        },
        {
         "alignmentgroup": "True",
         "hovertemplate": "variable=Ability to get recommendations based on your preferences or mood<br>frequency=%{x}<br>value=%{y}<extra></extra>",
         "legendgroup": "Ability to get recommendations based on your preferences or mood",
         "marker": {
          "color": "#FF97FF",
          "pattern": {
           "shape": ""
          }
         },
         "name": "Ability to get recommendations based on your preferences or mood",
         "offsetgroup": "Ability to get recommendations based on your preferences or mood",
         "orientation": "v",
         "showlegend": true,
         "textposition": "auto",
         "type": "bar",
         "x": [
          "Once a week",
          "Once a week",
          "Once a week",
          "Once a week",
          "Once a week",
          "Once a week",
          "Every day",
          "Once a week",
          "Once a week",
          "Once a week",
          "Once a week",
          "Once a week",
          "Once a week",
          "Once a week",
          "Every day",
          "Once a week",
          "Once a week",
          "Once a week",
          "Every day",
          "Once a week",
          "Once a week",
          "Every day",
          "Once a week",
          "Once a week",
          "Every day",
          "Once a week"
         ],
         "xaxis": "x",
         "y": [
          0,
          0,
          0,
          0,
          0,
          0,
          0,
          0,
          0,
          0,
          0,
          1,
          0,
          0,
          0,
          0,
          0,
          1,
          0,
          0,
          0,
          0,
          0,
          0,
          0,
          0
         ],
         "yaxis": "y"
        },
        {
         "alignmentgroup": "True",
         "hovertemplate": "variable=Ability to dislike drinks and hide them from the menu<br>frequency=%{x}<br>value=%{y}<extra></extra>",
         "legendgroup": "Ability to dislike drinks and hide them from the menu",
         "marker": {
          "color": "#FECB52",
          "pattern": {
           "shape": ""
          }
         },
         "name": "Ability to dislike drinks and hide them from the menu",
         "offsetgroup": "Ability to dislike drinks and hide them from the menu",
         "orientation": "v",
         "showlegend": true,
         "textposition": "auto",
         "type": "bar",
         "x": [
          "Once a week",
          "Once a week",
          "Once a week",
          "Once a week",
          "Once a week",
          "Once a week",
          "Every day",
          "Once a week",
          "Once a week",
          "Once a week",
          "Once a week",
          "Once a week",
          "Once a week",
          "Once a week",
          "Every day",
          "Once a week",
          "Once a week",
          "Once a week",
          "Every day",
          "Once a week",
          "Once a week",
          "Every day",
          "Once a week",
          "Once a week",
          "Every day",
          "Once a week"
         ],
         "xaxis": "x",
         "y": [
          0,
          0,
          0,
          0,
          0,
          0,
          0,
          0,
          0,
          0,
          0,
          0,
          0,
          0,
          0,
          0,
          0,
          0,
          0,
          0,
          0,
          0,
          0,
          0,
          0,
          0
         ],
         "yaxis": "y"
        }
       ],
       "layout": {
        "barmode": "group",
        "legend": {
         "title": {
          "text": "Features"
         },
         "tracegroupgap": 0
        },
        "margin": {
         "t": 60
        },
        "template": {
         "data": {
          "bar": [
           {
            "error_x": {
             "color": "#2a3f5f"
            },
            "error_y": {
             "color": "#2a3f5f"
            },
            "marker": {
             "line": {
              "color": "#E5ECF6",
              "width": 0.5
             },
             "pattern": {
              "fillmode": "overlay",
              "size": 10,
              "solidity": 0.2
             }
            },
            "type": "bar"
           }
          ],
          "barpolar": [
           {
            "marker": {
             "line": {
              "color": "#E5ECF6",
              "width": 0.5
             },
             "pattern": {
              "fillmode": "overlay",
              "size": 10,
              "solidity": 0.2
             }
            },
            "type": "barpolar"
           }
          ],
          "carpet": [
           {
            "aaxis": {
             "endlinecolor": "#2a3f5f",
             "gridcolor": "white",
             "linecolor": "white",
             "minorgridcolor": "white",
             "startlinecolor": "#2a3f5f"
            },
            "baxis": {
             "endlinecolor": "#2a3f5f",
             "gridcolor": "white",
             "linecolor": "white",
             "minorgridcolor": "white",
             "startlinecolor": "#2a3f5f"
            },
            "type": "carpet"
           }
          ],
          "choropleth": [
           {
            "colorbar": {
             "outlinewidth": 0,
             "ticks": ""
            },
            "type": "choropleth"
           }
          ],
          "contour": [
           {
            "colorbar": {
             "outlinewidth": 0,
             "ticks": ""
            },
            "colorscale": [
             [
              0,
              "#0d0887"
             ],
             [
              0.1111111111111111,
              "#46039f"
             ],
             [
              0.2222222222222222,
              "#7201a8"
             ],
             [
              0.3333333333333333,
              "#9c179e"
             ],
             [
              0.4444444444444444,
              "#bd3786"
             ],
             [
              0.5555555555555556,
              "#d8576b"
             ],
             [
              0.6666666666666666,
              "#ed7953"
             ],
             [
              0.7777777777777778,
              "#fb9f3a"
             ],
             [
              0.8888888888888888,
              "#fdca26"
             ],
             [
              1,
              "#f0f921"
             ]
            ],
            "type": "contour"
           }
          ],
          "contourcarpet": [
           {
            "colorbar": {
             "outlinewidth": 0,
             "ticks": ""
            },
            "type": "contourcarpet"
           }
          ],
          "heatmap": [
           {
            "colorbar": {
             "outlinewidth": 0,
             "ticks": ""
            },
            "colorscale": [
             [
              0,
              "#0d0887"
             ],
             [
              0.1111111111111111,
              "#46039f"
             ],
             [
              0.2222222222222222,
              "#7201a8"
             ],
             [
              0.3333333333333333,
              "#9c179e"
             ],
             [
              0.4444444444444444,
              "#bd3786"
             ],
             [
              0.5555555555555556,
              "#d8576b"
             ],
             [
              0.6666666666666666,
              "#ed7953"
             ],
             [
              0.7777777777777778,
              "#fb9f3a"
             ],
             [
              0.8888888888888888,
              "#fdca26"
             ],
             [
              1,
              "#f0f921"
             ]
            ],
            "type": "heatmap"
           }
          ],
          "heatmapgl": [
           {
            "colorbar": {
             "outlinewidth": 0,
             "ticks": ""
            },
            "colorscale": [
             [
              0,
              "#0d0887"
             ],
             [
              0.1111111111111111,
              "#46039f"
             ],
             [
              0.2222222222222222,
              "#7201a8"
             ],
             [
              0.3333333333333333,
              "#9c179e"
             ],
             [
              0.4444444444444444,
              "#bd3786"
             ],
             [
              0.5555555555555556,
              "#d8576b"
             ],
             [
              0.6666666666666666,
              "#ed7953"
             ],
             [
              0.7777777777777778,
              "#fb9f3a"
             ],
             [
              0.8888888888888888,
              "#fdca26"
             ],
             [
              1,
              "#f0f921"
             ]
            ],
            "type": "heatmapgl"
           }
          ],
          "histogram": [
           {
            "marker": {
             "pattern": {
              "fillmode": "overlay",
              "size": 10,
              "solidity": 0.2
             }
            },
            "type": "histogram"
           }
          ],
          "histogram2d": [
           {
            "colorbar": {
             "outlinewidth": 0,
             "ticks": ""
            },
            "colorscale": [
             [
              0,
              "#0d0887"
             ],
             [
              0.1111111111111111,
              "#46039f"
             ],
             [
              0.2222222222222222,
              "#7201a8"
             ],
             [
              0.3333333333333333,
              "#9c179e"
             ],
             [
              0.4444444444444444,
              "#bd3786"
             ],
             [
              0.5555555555555556,
              "#d8576b"
             ],
             [
              0.6666666666666666,
              "#ed7953"
             ],
             [
              0.7777777777777778,
              "#fb9f3a"
             ],
             [
              0.8888888888888888,
              "#fdca26"
             ],
             [
              1,
              "#f0f921"
             ]
            ],
            "type": "histogram2d"
           }
          ],
          "histogram2dcontour": [
           {
            "colorbar": {
             "outlinewidth": 0,
             "ticks": ""
            },
            "colorscale": [
             [
              0,
              "#0d0887"
             ],
             [
              0.1111111111111111,
              "#46039f"
             ],
             [
              0.2222222222222222,
              "#7201a8"
             ],
             [
              0.3333333333333333,
              "#9c179e"
             ],
             [
              0.4444444444444444,
              "#bd3786"
             ],
             [
              0.5555555555555556,
              "#d8576b"
             ],
             [
              0.6666666666666666,
              "#ed7953"
             ],
             [
              0.7777777777777778,
              "#fb9f3a"
             ],
             [
              0.8888888888888888,
              "#fdca26"
             ],
             [
              1,
              "#f0f921"
             ]
            ],
            "type": "histogram2dcontour"
           }
          ],
          "mesh3d": [
           {
            "colorbar": {
             "outlinewidth": 0,
             "ticks": ""
            },
            "type": "mesh3d"
           }
          ],
          "parcoords": [
           {
            "line": {
             "colorbar": {
              "outlinewidth": 0,
              "ticks": ""
             }
            },
            "type": "parcoords"
           }
          ],
          "pie": [
           {
            "automargin": true,
            "type": "pie"
           }
          ],
          "scatter": [
           {
            "fillpattern": {
             "fillmode": "overlay",
             "size": 10,
             "solidity": 0.2
            },
            "type": "scatter"
           }
          ],
          "scatter3d": [
           {
            "line": {
             "colorbar": {
              "outlinewidth": 0,
              "ticks": ""
             }
            },
            "marker": {
             "colorbar": {
              "outlinewidth": 0,
              "ticks": ""
             }
            },
            "type": "scatter3d"
           }
          ],
          "scattercarpet": [
           {
            "marker": {
             "colorbar": {
              "outlinewidth": 0,
              "ticks": ""
             }
            },
            "type": "scattercarpet"
           }
          ],
          "scattergeo": [
           {
            "marker": {
             "colorbar": {
              "outlinewidth": 0,
              "ticks": ""
             }
            },
            "type": "scattergeo"
           }
          ],
          "scattergl": [
           {
            "marker": {
             "colorbar": {
              "outlinewidth": 0,
              "ticks": ""
             }
            },
            "type": "scattergl"
           }
          ],
          "scattermapbox": [
           {
            "marker": {
             "colorbar": {
              "outlinewidth": 0,
              "ticks": ""
             }
            },
            "type": "scattermapbox"
           }
          ],
          "scatterpolar": [
           {
            "marker": {
             "colorbar": {
              "outlinewidth": 0,
              "ticks": ""
             }
            },
            "type": "scatterpolar"
           }
          ],
          "scatterpolargl": [
           {
            "marker": {
             "colorbar": {
              "outlinewidth": 0,
              "ticks": ""
             }
            },
            "type": "scatterpolargl"
           }
          ],
          "scatterternary": [
           {
            "marker": {
             "colorbar": {
              "outlinewidth": 0,
              "ticks": ""
             }
            },
            "type": "scatterternary"
           }
          ],
          "surface": [
           {
            "colorbar": {
             "outlinewidth": 0,
             "ticks": ""
            },
            "colorscale": [
             [
              0,
              "#0d0887"
             ],
             [
              0.1111111111111111,
              "#46039f"
             ],
             [
              0.2222222222222222,
              "#7201a8"
             ],
             [
              0.3333333333333333,
              "#9c179e"
             ],
             [
              0.4444444444444444,
              "#bd3786"
             ],
             [
              0.5555555555555556,
              "#d8576b"
             ],
             [
              0.6666666666666666,
              "#ed7953"
             ],
             [
              0.7777777777777778,
              "#fb9f3a"
             ],
             [
              0.8888888888888888,
              "#fdca26"
             ],
             [
              1,
              "#f0f921"
             ]
            ],
            "type": "surface"
           }
          ],
          "table": [
           {
            "cells": {
             "fill": {
              "color": "#EBF0F8"
             },
             "line": {
              "color": "white"
             }
            },
            "header": {
             "fill": {
              "color": "#C8D4E3"
             },
             "line": {
              "color": "white"
             }
            },
            "type": "table"
           }
          ]
         },
         "layout": {
          "annotationdefaults": {
           "arrowcolor": "#2a3f5f",
           "arrowhead": 0,
           "arrowwidth": 1
          },
          "autotypenumbers": "strict",
          "coloraxis": {
           "colorbar": {
            "outlinewidth": 0,
            "ticks": ""
           }
          },
          "colorscale": {
           "diverging": [
            [
             0,
             "#8e0152"
            ],
            [
             0.1,
             "#c51b7d"
            ],
            [
             0.2,
             "#de77ae"
            ],
            [
             0.3,
             "#f1b6da"
            ],
            [
             0.4,
             "#fde0ef"
            ],
            [
             0.5,
             "#f7f7f7"
            ],
            [
             0.6,
             "#e6f5d0"
            ],
            [
             0.7,
             "#b8e186"
            ],
            [
             0.8,
             "#7fbc41"
            ],
            [
             0.9,
             "#4d9221"
            ],
            [
             1,
             "#276419"
            ]
           ],
           "sequential": [
            [
             0,
             "#0d0887"
            ],
            [
             0.1111111111111111,
             "#46039f"
            ],
            [
             0.2222222222222222,
             "#7201a8"
            ],
            [
             0.3333333333333333,
             "#9c179e"
            ],
            [
             0.4444444444444444,
             "#bd3786"
            ],
            [
             0.5555555555555556,
             "#d8576b"
            ],
            [
             0.6666666666666666,
             "#ed7953"
            ],
            [
             0.7777777777777778,
             "#fb9f3a"
            ],
            [
             0.8888888888888888,
             "#fdca26"
            ],
            [
             1,
             "#f0f921"
            ]
           ],
           "sequentialminus": [
            [
             0,
             "#0d0887"
            ],
            [
             0.1111111111111111,
             "#46039f"
            ],
            [
             0.2222222222222222,
             "#7201a8"
            ],
            [
             0.3333333333333333,
             "#9c179e"
            ],
            [
             0.4444444444444444,
             "#bd3786"
            ],
            [
             0.5555555555555556,
             "#d8576b"
            ],
            [
             0.6666666666666666,
             "#ed7953"
            ],
            [
             0.7777777777777778,
             "#fb9f3a"
            ],
            [
             0.8888888888888888,
             "#fdca26"
            ],
            [
             1,
             "#f0f921"
            ]
           ]
          },
          "colorway": [
           "#636efa",
           "#EF553B",
           "#00cc96",
           "#ab63fa",
           "#FFA15A",
           "#19d3f3",
           "#FF6692",
           "#B6E880",
           "#FF97FF",
           "#FECB52"
          ],
          "font": {
           "color": "#2a3f5f"
          },
          "geo": {
           "bgcolor": "white",
           "lakecolor": "white",
           "landcolor": "#E5ECF6",
           "showlakes": true,
           "showland": true,
           "subunitcolor": "white"
          },
          "hoverlabel": {
           "align": "left"
          },
          "hovermode": "closest",
          "mapbox": {
           "style": "light"
          },
          "paper_bgcolor": "white",
          "plot_bgcolor": "#E5ECF6",
          "polar": {
           "angularaxis": {
            "gridcolor": "white",
            "linecolor": "white",
            "ticks": ""
           },
           "bgcolor": "#E5ECF6",
           "radialaxis": {
            "gridcolor": "white",
            "linecolor": "white",
            "ticks": ""
           }
          },
          "scene": {
           "xaxis": {
            "backgroundcolor": "#E5ECF6",
            "gridcolor": "white",
            "gridwidth": 2,
            "linecolor": "white",
            "showbackground": true,
            "ticks": "",
            "zerolinecolor": "white"
           },
           "yaxis": {
            "backgroundcolor": "#E5ECF6",
            "gridcolor": "white",
            "gridwidth": 2,
            "linecolor": "white",
            "showbackground": true,
            "ticks": "",
            "zerolinecolor": "white"
           },
           "zaxis": {
            "backgroundcolor": "#E5ECF6",
            "gridcolor": "white",
            "gridwidth": 2,
            "linecolor": "white",
            "showbackground": true,
            "ticks": "",
            "zerolinecolor": "white"
           }
          },
          "shapedefaults": {
           "line": {
            "color": "#2a3f5f"
           }
          },
          "ternary": {
           "aaxis": {
            "gridcolor": "white",
            "linecolor": "white",
            "ticks": ""
           },
           "baxis": {
            "gridcolor": "white",
            "linecolor": "white",
            "ticks": ""
           },
           "bgcolor": "#E5ECF6",
           "caxis": {
            "gridcolor": "white",
            "linecolor": "white",
            "ticks": ""
           }
          },
          "title": {
           "x": 0.05
          },
          "xaxis": {
           "automargin": true,
           "gridcolor": "white",
           "linecolor": "white",
           "ticks": "",
           "title": {
            "standoff": 15
           },
           "zerolinecolor": "white",
           "zerolinewidth": 2
          },
          "yaxis": {
           "automargin": true,
           "gridcolor": "white",
           "linecolor": "white",
           "ticks": "",
           "title": {
            "standoff": 15
           },
           "zerolinecolor": "white",
           "zerolinewidth": 2
          }
         }
        },
        "title": {
         "text": "Frequency of Soda Shack Visits and Requested Features"
        },
        "xaxis": {
         "anchor": "y",
         "domain": [
          0,
          1
         ],
         "title": {
          "text": "Frequency"
         }
        },
        "yaxis": {
         "anchor": "x",
         "domain": [
          0,
          1
         ],
         "title": {
          "text": "Count"
         }
        }
       }
      }
     },
     "metadata": {},
     "output_type": "display_data"
    }
   ],
   "source": [
    "# interactively plot the features\n",
    "import plotly.express as px\n",
    "dailyweekly = featurebyfreq[(featurebyfreq['frequency'] == 'Every day') | (featurebyfreq['frequency'] == 'Once a week')]\n",
    "# graph totals of each feature\n",
    "fig = px.bar(dailyweekly, x=\"frequency\", y=dailyweekly.columns[1:], barmode=\"group\")\n",
    "fig.update_layout(xaxis_title=\"Frequency\", yaxis_title=\"Count\")\n",
    "fig.update_layout(title_text='Frequency of Soda Shack Visits and Requested Features')\n",
    "fig.update_layout(legend_title_text='Features')\n",
    "fig.show()\n"
   ]
  }
 ],
 "metadata": {
  "kernelspec": {
   "display_name": "Python 3",
   "language": "python",
   "name": "python3"
  },
  "language_info": {
   "codemirror_mode": {
    "name": "ipython",
    "version": 3
   },
   "file_extension": ".py",
   "mimetype": "text/x-python",
   "name": "python",
   "nbconvert_exporter": "python",
   "pygments_lexer": "ipython3",
   "version": "3.10.9"
  },
  "orig_nbformat": 4
 },
 "nbformat": 4,
 "nbformat_minor": 2
}
