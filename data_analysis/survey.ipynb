{
 "cells": [
  {
   "attachments": {},
   "cell_type": "markdown",
   "metadata": {},
   "source": [
    "# Questions to Answer with this Data:\n",
    "1. What are the most important features that users expect in a drink shop mobile application?\n",
    "2. What are the dealbreakers in using a drink shop mobile application?\n",
    "3. How does the frequency of visiting a drink shop relate to the importance of different features in a mobile application?\n",
    "4. How does the frequency of visiting a drink shop relate to the dealbreakers in a mobile application?\n",
    "5. What is the relationship between the importance of features and the likelihood of using a drink shop mobile application?\n",
    "6. What is the relationship between the dealbreakers in using an app and the likelihood of using a drink shop mobile application? \n",
    "\n",
    "## Other charts:\n",
    "1. Frequency of visiting a drink shop as a pie chart\n",
    "2. Mobile app usage as a pie chart\n",
    "3. Distribution of top features\n",
    "4. Distribution of dealbreakers\n",
    " "
   ]
  },
  {
   "cell_type": "code",
   "execution_count": 12,
   "metadata": {},
   "outputs": [
    {
     "name": "stdout",
     "output_type": "stream",
     "text": [
      "Index(['ID', 'frequency', 'is_mobile_user', 'no_mobile_reason', 'features',\n",
      "       'dealbreakers', 'prototype'],\n",
      "      dtype='object')\n"
     ]
    },
    {
     "name": "stderr",
     "output_type": "stream",
     "text": [
      "C:\\Users\\CAleb\\AppData\\Local\\Temp\\ipykernel_1700\\584831332.py:8: FutureWarning:\n",
      "\n",
      "The default value of regex will change from True to False in a future version. In addition, single character regular expressions will *not* be treated as literal strings when regex=True.\n",
      "\n",
      "C:\\Users\\CAleb\\AppData\\Local\\Temp\\ipykernel_1700\\584831332.py:9: FutureWarning:\n",
      "\n",
      "The default value of regex will change from True to False in a future version. In addition, single character regular expressions will *not* be treated as literal strings when regex=True.\n",
      "\n"
     ]
    },
    {
     "data": {
      "text/html": [
       "<div>\n",
       "<style scoped>\n",
       "    .dataframe tbody tr th:only-of-type {\n",
       "        vertical-align: middle;\n",
       "    }\n",
       "\n",
       "    .dataframe tbody tr th {\n",
       "        vertical-align: top;\n",
       "    }\n",
       "\n",
       "    .dataframe thead th {\n",
       "        text-align: right;\n",
       "    }\n",
       "</style>\n",
       "<table border=\"1\" class=\"dataframe\">\n",
       "  <thead>\n",
       "    <tr style=\"text-align: right;\">\n",
       "      <th></th>\n",
       "      <th>ID</th>\n",
       "      <th>frequency</th>\n",
       "      <th>is_mobile_user</th>\n",
       "      <th>no_mobile_reason</th>\n",
       "      <th>features</th>\n",
       "      <th>dealbreakers</th>\n",
       "      <th>prototype</th>\n",
       "    </tr>\n",
       "  </thead>\n",
       "  <tbody>\n",
       "    <tr>\n",
       "      <th>0</th>\n",
       "      <td>1</td>\n",
       "      <td>Once a week</td>\n",
       "      <td>Yes</td>\n",
       "      <td>NaN</td>\n",
       "      <td>Ability to check a gift card balance quickly;A...</td>\n",
       "      <td>The app does not have an easy payment method;T...</td>\n",
       "      <td>NaN</td>\n",
       "    </tr>\n",
       "    <tr>\n",
       "      <th>1</th>\n",
       "      <td>2</td>\n",
       "      <td>Once a week</td>\n",
       "      <td>Yes</td>\n",
       "      <td>NaN</td>\n",
       "      <td>Ability to see what others have rated a drink ...</td>\n",
       "      <td>The app crashes or freezes frequently;The app ...</td>\n",
       "      <td>I like how the cart is called the cupholder.</td>\n",
       "    </tr>\n",
       "    <tr>\n",
       "      <th>2</th>\n",
       "      <td>3</td>\n",
       "      <td>Once a week</td>\n",
       "      <td>Yes</td>\n",
       "      <td>NaN</td>\n",
       "      <td>Ability to see what others have rated a drink ...</td>\n",
       "      <td>The app crashes or freezes frequently;The app ...</td>\n",
       "      <td>NaN</td>\n",
       "    </tr>\n",
       "    <tr>\n",
       "      <th>3</th>\n",
       "      <td>4</td>\n",
       "      <td>Once a month</td>\n",
       "      <td>No</td>\n",
       "      <td>NaN</td>\n",
       "      <td>User interface that is easy to use;Ability to ...</td>\n",
       "      <td>The app does not have an easy payment method;T...</td>\n",
       "      <td>The app looked good. I liked how it was set up.</td>\n",
       "    </tr>\n",
       "    <tr>\n",
       "      <th>4</th>\n",
       "      <td>5</td>\n",
       "      <td>A few times a year</td>\n",
       "      <td>No</td>\n",
       "      <td>NaN</td>\n",
       "      <td>Ability to check a gift card balance quickly;A...</td>\n",
       "      <td>The app crashes or freezes frequently;The app ...</td>\n",
       "      <td>I like it...nice and simple. Costs visible. Ea...</td>\n",
       "    </tr>\n",
       "  </tbody>\n",
       "</table>\n",
       "</div>"
      ],
      "text/plain": [
       "   ID           frequency is_mobile_user no_mobile_reason  \\\n",
       "0   1         Once a week            Yes              NaN   \n",
       "1   2         Once a week            Yes              NaN   \n",
       "2   3         Once a week            Yes              NaN   \n",
       "3   4        Once a month             No              NaN   \n",
       "4   5  A few times a year             No              NaN   \n",
       "\n",
       "                                            features  \\\n",
       "0  Ability to check a gift card balance quickly;A...   \n",
       "1  Ability to see what others have rated a drink ...   \n",
       "2  Ability to see what others have rated a drink ...   \n",
       "3  User interface that is easy to use;Ability to ...   \n",
       "4  Ability to check a gift card balance quickly;A...   \n",
       "\n",
       "                                        dealbreakers  \\\n",
       "0  The app does not have an easy payment method;T...   \n",
       "1  The app crashes or freezes frequently;The app ...   \n",
       "2  The app crashes or freezes frequently;The app ...   \n",
       "3  The app does not have an easy payment method;T...   \n",
       "4  The app crashes or freezes frequently;The app ...   \n",
       "\n",
       "                                           prototype  \n",
       "0                                                NaN  \n",
       "1      I like how the cart is called the cupholder.   \n",
       "2                                                NaN  \n",
       "3   The app looked good. I liked how it was set up.   \n",
       "4  I like it...nice and simple. Costs visible. Ea...  "
      ]
     },
     "execution_count": 12,
     "metadata": {},
     "output_type": "execute_result"
    }
   ],
   "source": [
    "import pandas as pd\n",
    "# read in xlsx file into a dataframe, first row is the header\n",
    "df = pd.read_excel('survey1cleaned.xlsx')\n",
    "# print the first 5 rows of the dataframe\\\n",
    "#print(df.iloc[0:5].to_markdown())\n",
    "\n",
    "# replace ( or ) with nothing\n",
    "df['features'] = df['features'].str.replace('(','')\n",
    "df['features'] = df['features'].str.replace(')','')\n",
    "\n",
    "print(df.columns)\n",
    "df.head()\n"
   ]
  },
  {
   "cell_type": "code",
   "execution_count": 13,
   "metadata": {},
   "outputs": [
    {
     "data": {
      "image/png": "[encoded data removed]",
      "text/plain": [
       "<Figure size 1000x1000 with 1 Axes>"
      ]
     },
     "metadata": {},
     "output_type": "display_data"
    }
   ],
   "source": [
    "#Frequency of visiting a drink shop as a pie chart\n",
    "import matplotlib.pyplot as plt\n",
    "import numpy as np\n",
    "import seaborn as sns\n",
    "\n",
    "# create a new dataframe that contains only the frequency column\n",
    "freq = df[['frequency']]\n",
    "# display the frequency column as a pie chart\n",
    "freq['frequency'].value_counts().plot.pie(autopct='%1.1f%%', figsize=(10,10), colors = sns.color_palette(\"Set3\", 10))\n",
    "plt.ylabel('')\n",
    "plt.title('Respondent Drink Shop Visit Frequency')\n",
    "plt.show()"
   ]
  },
  {
   "cell_type": "code",
   "execution_count": 14,
   "metadata": {},
   "outputs": [
    {
     "data": {
      "image/png": "[encoded data removed]",
      "text/plain": [
       "<Figure size 1000x1000 with 1 Axes>"
      ]
     },
     "metadata": {},
     "output_type": "display_data"
    }
   ],
   "source": [
    "#Mobile app usage as a pie chart\n",
    "# create a new dataframe that contains only the mobile column\n",
    "mobile = df[['is_mobile_user']]\n",
    "# display the mobile column as a pie chart\n",
    "mobile['is_mobile_user'].value_counts().plot.pie(autopct='%1.1f%%', figsize=(10,10), colors = sns.color_palette(\"Set3\", 10))\n",
    "plt.ylabel('')\n",
    "plt.title('Respondent Mobile App Usage')\n",
    "plt.show()"
   ]
  },
  {
   "cell_type": "code",
   "execution_count": 23,
   "metadata": {},
   "outputs": [
    {
     "name": "stderr",
     "output_type": "stream",
     "text": [
      "C:\\Users\\CAleb\\AppData\\Local\\Temp\\ipykernel_1700\\2350351204.py:10: SettingWithCopyWarning:\n",
      "\n",
      "\n",
      "A value is trying to be set on a copy of a slice from a DataFrame.\n",
      "Try using .loc[row_indexer,col_indexer] = value instead\n",
      "\n",
      "See the caveats in the documentation: https://pandas.pydata.org/pandas-docs/stable/user_guide/indexing.html#returning-a-view-versus-a-copy\n",
      "\n",
      "C:\\Users\\CAleb\\AppData\\Local\\Temp\\ipykernel_1700\\2350351204.py:10: SettingWithCopyWarning:\n",
      "\n",
      "\n",
      "A value is trying to be set on a copy of a slice from a DataFrame.\n",
      "Try using .loc[row_indexer,col_indexer] = value instead\n",
      "\n",
      "See the caveats in the documentation: https://pandas.pydata.org/pandas-docs/stable/user_guide/indexing.html#returning-a-view-versus-a-copy\n",
      "\n",
      "C:\\Users\\CAleb\\AppData\\Local\\Temp\\ipykernel_1700\\2350351204.py:10: SettingWithCopyWarning:\n",
      "\n",
      "\n",
      "A value is trying to be set on a copy of a slice from a DataFrame.\n",
      "Try using .loc[row_indexer,col_indexer] = value instead\n",
      "\n",
      "See the caveats in the documentation: https://pandas.pydata.org/pandas-docs/stable/user_guide/indexing.html#returning-a-view-versus-a-copy\n",
      "\n",
      "C:\\Users\\CAleb\\AppData\\Local\\Temp\\ipykernel_1700\\2350351204.py:10: SettingWithCopyWarning:\n",
      "\n",
      "\n",
      "A value is trying to be set on a copy of a slice from a DataFrame.\n",
      "Try using .loc[row_indexer,col_indexer] = value instead\n",
      "\n",
      "See the caveats in the documentation: https://pandas.pydata.org/pandas-docs/stable/user_guide/indexing.html#returning-a-view-versus-a-copy\n",
      "\n",
      "C:\\Users\\CAleb\\AppData\\Local\\Temp\\ipykernel_1700\\2350351204.py:10: SettingWithCopyWarning:\n",
      "\n",
      "\n",
      "A value is trying to be set on a copy of a slice from a DataFrame.\n",
      "Try using .loc[row_indexer,col_indexer] = value instead\n",
      "\n",
      "See the caveats in the documentation: https://pandas.pydata.org/pandas-docs/stable/user_guide/indexing.html#returning-a-view-versus-a-copy\n",
      "\n"
     ]
    },
    {
     "data": {
      "image/png": "[encoded data removed]",
      "text/plain": [
       "<Figure size 1000x500 with 1 Axes>"
      ]
     },
     "metadata": {},
     "output_type": "display_data"
    }
   ],
   "source": [
    "#Distribution of top features\n",
    "# create a new dataframe that contains only the top features column\n",
    "top_features = df[['features']]\n",
    "# split the features column into multiple columns\n",
    "\n",
    "\n",
    "\n",
    "for feature in top_features['features']:\n",
    "    for f in feature.split(';')[:-1]:\n",
    "        top_features[f] = top_features['features'].str.contains(f).astype(int)\n",
    "# drop the features column\n",
    "top_features.drop('features', axis=1, inplace=True)\n",
    "\n",
    "# show data in a table\n",
    "#print(top_features.to_markdown())\n",
    "\n",
    "# display the top features as a bar chart horizontally\n",
    "top_features.sum().sort_values(ascending=True).plot.barh(figsize=(10,5), color = sns.color_palette(\"Set3\", 10))\n",
    "plt.title('Respondent\\'s Top Features')\n",
    "plt.show()"
   ]
  },
  {
   "cell_type": "code",
   "execution_count": 22,
   "metadata": {},
   "outputs": [
    {
     "name": "stderr",
     "output_type": "stream",
     "text": [
      "C:\\Users\\CAleb\\AppData\\Local\\Temp\\ipykernel_1700\\3514628986.py:9: SettingWithCopyWarning:\n",
      "\n",
      "\n",
      "A value is trying to be set on a copy of a slice from a DataFrame.\n",
      "Try using .loc[row_indexer,col_indexer] = value instead\n",
      "\n",
      "See the caveats in the documentation: https://pandas.pydata.org/pandas-docs/stable/user_guide/indexing.html#returning-a-view-versus-a-copy\n",
      "\n",
      "C:\\Users\\CAleb\\AppData\\Local\\Temp\\ipykernel_1700\\3514628986.py:9: SettingWithCopyWarning:\n",
      "\n",
      "\n",
      "A value is trying to be set on a copy of a slice from a DataFrame.\n",
      "Try using .loc[row_indexer,col_indexer] = value instead\n",
      "\n",
      "See the caveats in the documentation: https://pandas.pydata.org/pandas-docs/stable/user_guide/indexing.html#returning-a-view-versus-a-copy\n",
      "\n",
      "C:\\Users\\CAleb\\AppData\\Local\\Temp\\ipykernel_1700\\3514628986.py:9: SettingWithCopyWarning:\n",
      "\n",
      "\n",
      "A value is trying to be set on a copy of a slice from a DataFrame.\n",
      "Try using .loc[row_indexer,col_indexer] = value instead\n",
      "\n",
      "See the caveats in the documentation: https://pandas.pydata.org/pandas-docs/stable/user_guide/indexing.html#returning-a-view-versus-a-copy\n",
      "\n",
      "C:\\Users\\CAleb\\AppData\\Local\\Temp\\ipykernel_1700\\3514628986.py:9: SettingWithCopyWarning:\n",
      "\n",
      "\n",
      "A value is trying to be set on a copy of a slice from a DataFrame.\n",
      "Try using .loc[row_indexer,col_indexer] = value instead\n",
      "\n",
      "See the caveats in the documentation: https://pandas.pydata.org/pandas-docs/stable/user_guide/indexing.html#returning-a-view-versus-a-copy\n",
      "\n",
      "C:\\Users\\CAleb\\AppData\\Local\\Temp\\ipykernel_1700\\3514628986.py:17: SettingWithCopyWarning:\n",
      "\n",
      "\n",
      "A value is trying to be set on a copy of a slice from a DataFrame.\n",
      "Try using .loc[row_indexer,col_indexer] = value instead\n",
      "\n",
      "See the caveats in the documentation: https://pandas.pydata.org/pandas-docs/stable/user_guide/indexing.html#returning-a-view-versus-a-copy\n",
      "\n",
      "C:\\Users\\CAleb\\AppData\\Local\\Temp\\ipykernel_1700\\3514628986.py:17: SettingWithCopyWarning:\n",
      "\n",
      "\n",
      "A value is trying to be set on a copy of a slice from a DataFrame.\n",
      "Try using .loc[row_indexer,col_indexer] = value instead\n",
      "\n",
      "See the caveats in the documentation: https://pandas.pydata.org/pandas-docs/stable/user_guide/indexing.html#returning-a-view-versus-a-copy\n",
      "\n",
      "C:\\Users\\CAleb\\AppData\\Local\\Temp\\ipykernel_1700\\3514628986.py:17: SettingWithCopyWarning:\n",
      "\n",
      "\n",
      "A value is trying to be set on a copy of a slice from a DataFrame.\n",
      "Try using .loc[row_indexer,col_indexer] = value instead\n",
      "\n",
      "See the caveats in the documentation: https://pandas.pydata.org/pandas-docs/stable/user_guide/indexing.html#returning-a-view-versus-a-copy\n",
      "\n",
      "C:\\Users\\CAleb\\AppData\\Local\\Temp\\ipykernel_1700\\3514628986.py:17: SettingWithCopyWarning:\n",
      "\n",
      "\n",
      "A value is trying to be set on a copy of a slice from a DataFrame.\n",
      "Try using .loc[row_indexer,col_indexer] = value instead\n",
      "\n",
      "See the caveats in the documentation: https://pandas.pydata.org/pandas-docs/stable/user_guide/indexing.html#returning-a-view-versus-a-copy\n",
      "\n"
     ]
    },
    {
     "data": {
      "text/html": [
       "<div>\n",
       "<style scoped>\n",
       "    .dataframe tbody tr th:only-of-type {\n",
       "        vertical-align: middle;\n",
       "    }\n",
       "\n",
       "    .dataframe tbody tr th {\n",
       "        vertical-align: top;\n",
       "    }\n",
       "\n",
       "    .dataframe thead th {\n",
       "        text-align: right;\n",
       "    }\n",
       "</style>\n",
       "<table border=\"1\" class=\"dataframe\">\n",
       "  <thead>\n",
       "    <tr style=\"text-align: right;\">\n",
       "      <th></th>\n",
       "      <th>frequency</th>\n",
       "      <th>The app does not have an easy payment method</th>\n",
       "      <th>The app does not offer rewards or discounts for loyal customers</th>\n",
       "      <th>The app crashes or freezes frequently</th>\n",
       "      <th></th>\n",
       "      <th>The app does not allow customization or personalization of orders</th>\n",
       "      <th>The app has a confusing or cluttered user interface</th>\n",
       "      <th>The app does not have a clear or transparent privacy policy</th>\n",
       "      <th>The app does not have a chat support or callback function for customer service</th>\n",
       "    </tr>\n",
       "  </thead>\n",
       "  <tbody>\n",
       "    <tr>\n",
       "      <th>0</th>\n",
       "      <td>Once a week</td>\n",
       "      <td>1</td>\n",
       "      <td>1</td>\n",
       "      <td>1</td>\n",
       "      <td>1</td>\n",
       "      <td>0</td>\n",
       "      <td>0</td>\n",
       "      <td>0</td>\n",
       "      <td>0</td>\n",
       "    </tr>\n",
       "    <tr>\n",
       "      <th>1</th>\n",
       "      <td>Once a week</td>\n",
       "      <td>1</td>\n",
       "      <td>0</td>\n",
       "      <td>1</td>\n",
       "      <td>1</td>\n",
       "      <td>1</td>\n",
       "      <td>0</td>\n",
       "      <td>0</td>\n",
       "      <td>0</td>\n",
       "    </tr>\n",
       "    <tr>\n",
       "      <th>2</th>\n",
       "      <td>Once a week</td>\n",
       "      <td>0</td>\n",
       "      <td>0</td>\n",
       "      <td>1</td>\n",
       "      <td>1</td>\n",
       "      <td>1</td>\n",
       "      <td>1</td>\n",
       "      <td>0</td>\n",
       "      <td>0</td>\n",
       "    </tr>\n",
       "    <tr>\n",
       "      <th>3</th>\n",
       "      <td>Once a month</td>\n",
       "      <td>1</td>\n",
       "      <td>0</td>\n",
       "      <td>1</td>\n",
       "      <td>1</td>\n",
       "      <td>0</td>\n",
       "      <td>0</td>\n",
       "      <td>1</td>\n",
       "      <td>0</td>\n",
       "    </tr>\n",
       "    <tr>\n",
       "      <th>4</th>\n",
       "      <td>A few times a year</td>\n",
       "      <td>1</td>\n",
       "      <td>0</td>\n",
       "      <td>1</td>\n",
       "      <td>1</td>\n",
       "      <td>0</td>\n",
       "      <td>1</td>\n",
       "      <td>0</td>\n",
       "      <td>0</td>\n",
       "    </tr>\n",
       "  </tbody>\n",
       "</table>\n",
       "</div>"
      ],
      "text/plain": [
       "            frequency  The app does not have an easy payment method  \\\n",
       "0         Once a week                                             1   \n",
       "1         Once a week                                             1   \n",
       "2         Once a week                                             0   \n",
       "3        Once a month                                             1   \n",
       "4  A few times a year                                             1   \n",
       "\n",
       "   The app does not offer rewards or discounts for loyal customers  \\\n",
       "0                                                  1                 \n",
       "1                                                  0                 \n",
       "2                                                  0                 \n",
       "3                                                  0                 \n",
       "4                                                  0                 \n",
       "\n",
       "   The app crashes or freezes frequently     \\\n",
       "0                                      1  1   \n",
       "1                                      1  1   \n",
       "2                                      1  1   \n",
       "3                                      1  1   \n",
       "4                                      1  1   \n",
       "\n",
       "   The app does not allow customization or personalization of orders  \\\n",
       "0                                                  0                   \n",
       "1                                                  1                   \n",
       "2                                                  1                   \n",
       "3                                                  0                   \n",
       "4                                                  0                   \n",
       "\n",
       "   The app has a confusing or cluttered user interface  \\\n",
       "0                                                  0     \n",
       "1                                                  0     \n",
       "2                                                  1     \n",
       "3                                                  0     \n",
       "4                                                  1     \n",
       "\n",
       "   The app does not have a clear or transparent privacy policy  \\\n",
       "0                                                  0             \n",
       "1                                                  0             \n",
       "2                                                  0             \n",
       "3                                                  1             \n",
       "4                                                  0             \n",
       "\n",
       "   The app does not have a chat support or callback function for customer service  \n",
       "0                                                  0                               \n",
       "1                                                  0                               \n",
       "2                                                  0                               \n",
       "3                                                  0                               \n",
       "4                                                  0                               "
      ]
     },
     "execution_count": 22,
     "metadata": {},
     "output_type": "execute_result"
    }
   ],
   "source": [
    "# create new dataframe that contains only the frequency column\n",
    "featurefreq = df[['frequency', 'features']]\n",
    "dealbreakerbyfreq = df[['frequency', 'dealbreakers']]\n",
    "# split column features into multiple columns by ; delimiter\n",
    "# make column a 1 if the feature is present, 0 if not\n",
    "# add new columns to dataframe\n",
    "for feature in featurefreq['features']:\n",
    "    for f in feature.split(';'):\n",
    "        featurefreq[f] = featurefreq['features'].str.contains(f).astype(int)\n",
    "# drop the features column\n",
    "featurefreq.drop('features', axis=1, inplace=True)\n",
    "featurefreq.drop('', axis=1, inplace=True)\n",
    "\n",
    "# do the same for dealbreakers\n",
    "for dealbreaker in dealbreakerbyfreq['dealbreakers']:\n",
    "    for d in dealbreaker.split(';'):\n",
    "        dealbreakerbyfreq[d] = dealbreakerbyfreq['dealbreakers'].str.contains(d).astype(int)\n",
    "dealbreakerbyfreq.drop('dealbreakers', axis=1, inplace=True)\n",
    "dealbreakerbyfreq.head()"
   ]
  },
  {
   "cell_type": "code",
   "execution_count": 24,
   "metadata": {},
   "outputs": [
    {
     "data": {
      "image/png": "[encoded data removed]",
      "text/plain": [
       "<Figure size 1000x500 with 1 Axes>"
      ]
     },
     "metadata": {},
     "output_type": "display_data"
    }
   ],
   "source": [
    "import matplotlib.pyplot as plt\n",
    "import numpy as np\n",
    "# graph the sum of each feature, ignore the frequency column and the unlabeled column\n",
    "# make it horizontal and include the count value on the bar\n",
    "featurefreq.iloc[:,1:].sum().sort_values(ascending=True).plot.barh(figsize=(10,5), color = sns.color_palette(\"Set3\", 10))\n",
    "for i, v in enumerate(featurefreq.iloc[:,1:].sum().sort_values()):\n",
    "    plt.text(v + 1, i - .05 , str(v), color='green', fontweight='bold')\n",
    "plt.title('Top Features')\n",
    "plt.show()"
   ]
  },
  {
   "cell_type": "code",
   "execution_count": 25,
   "metadata": {},
   "outputs": [
    {
     "data": {
      "image/png": "[encoded data removed]",
      "text/plain": [
       "<Figure size 1000x500 with 1 Axes>"
      ]
     },
     "metadata": {},
     "output_type": "display_data"
    }
   ],
   "source": [
    "# graph the sum of each dealbreaker, ignore the frequency column and the unlabeled column\n",
    "# make it horizontal and include the count value on the bar\n",
    "dealbreakerbyfreq.iloc[:,1:].sum().sort_values(ascending=True).plot.barh(figsize=(10,5), color = sns.color_palette(\"Set3\", 10))\n",
    "for i, v in enumerate(dealbreakerbyfreq.iloc[:,1:].sum().sort_values()):\n",
    "    plt.text(v + 1, i - .05 , str(v), color='green', fontweight='bold')\n",
    "plt.show()\n"
   ]
  },
  {
   "cell_type": "code",
   "execution_count": 43,
   "metadata": {},
   "outputs": [
    {
     "data": {
      "image/png": "[encoded data removed]",
      "text/plain": [
       "<Figure size 1000x600 with 1 Axes>"
      ]
     },
     "metadata": {},
     "output_type": "display_data"
    }
   ],
   "source": [
    "import seaborn as sns\n",
    "# value count each feature column grouped by frequency\n",
    "sum_data = dailyweekly.groupby('frequency').sum()\n",
    "# make the graph horizontal\n",
    "sns.set_style('whitegrid')\n",
    "sum_data.plot(kind='barh', stacked=False, figsize=(10, 6))\n",
    "plt.title('Frequency vs. Response Sum')\n",
    "plt.xlabel('Frequency')\n",
    "plt.ylabel('Response Sum')\n",
    "plt.legend(bbox_to_anchor=(1.05, 1), loc=2, borderaxespad=0.)\n",
    "plt.show()\n",
    "\n"
   ]
  },
  {
   "cell_type": "code",
   "execution_count": 20,
   "metadata": {},
   "outputs": [
    {
     "data": {
      "application/vnd.plotly.v1+json": {
       "config": {
        "plotlyServerURL": "https://plot.ly"
       },
       "data": [
        {
         "alignmentgroup": "True",
         "hovertemplate": "variable=Ability to check a gift card balance quickly<br>frequency=%{x}<br>value=%{y}<extra></extra>",
         "legendgroup": "Ability to check a gift card balance quickly",
         "marker": {
          "color": "#636efa",
          "pattern": {
           "shape": ""
          }
         },
         "name": "Ability to check a gift card balance quickly",
         "offsetgroup": "Ability to check a gift card balance quickly",
         "orientation": "v",
         "showlegend": true,
         "textposition": "auto",
         "type": "bar",
         "x": [
          "Once a week",
          "Once a week",
          "Once a week",
          "Once a month",
          "A few times a year",
          "Once a month",
          "Once a week",
          "A few times a year",
          "Once a week",
          "Once a week",
          "Every day",
          "A few times a year",
          "Once a week",
          "A few times a year",
          "Once a week",
          "Once a week",
          "Once a month",
          "Once a month",
          "Once a week",
          "A few times a year",
          "A few times a year",
          "A few times a year",
          "Once a month",
          "Once a week",
          "Once a week",
          "Once a week",
          "A few times a year",
          "A few times a year",
          "A few times a year",
          "Once a month",
          "A few times a year",
          "Every day",
          "A few times a year",
          "Once a month",
          "A few times a year",
          "Once a month",
          "Once a week",
          "Once a month",
          "Once a week",
          "A few times a year",
          "A few times a year",
          "Once a week",
          "A few times a year",
          "A few times a year",
          "Every day",
          "A few times a year",
          "Once a month",
          "A few times a year",
          "Once a week",
          "A few times a year",
          "Once a month",
          "Once a week",
          "Once a month",
          "A few times a year",
          "A few times a year",
          "A few times a year",
          "A few times a year",
          "Once a month",
          "A few times a year",
          "Every day",
          "Once a month",
          "Once a week",
          "A few times a year",
          "A few times a year",
          "A few times a year",
          "Once a week",
          "Every day",
          "Once a month",
          "A few times a year",
          "Once a week"
         ],
         "xaxis": "x",
         "y": [
          1,
          0,
          0,
          0,
          1,
          1,
          1,
          1,
          1,
          0,
          0,
          0,
          0,
          0,
          0,
          1,
          1,
          1,
          1,
          1,
          1,
          0,
          0,
          1,
          0,
          1,
          0,
          0,
          0,
          0,
          1,
          1,
          0,
          1,
          1,
          1,
          0,
          0,
          0,
          1,
          0,
          0,
          1,
          0,
          0,
          0,
          1,
          0,
          0,
          1,
          0,
          0,
          1,
          0,
          0,
          0,
          0,
          0,
          0,
          1,
          1,
          1,
          1,
          1,
          0,
          0,
          0,
          0,
          0,
          1
         ],
         "yaxis": "y"
        },
        {
         "alignmentgroup": "True",
         "hovertemplate": "variable=Ability to pick a time later in the day to pick up my order<br>frequency=%{x}<br>value=%{y}<extra></extra>",
         "legendgroup": "Ability to pick a time later in the day to pick up my order",
         "marker": {
          "color": "#EF553B",
          "pattern": {
           "shape": ""
          }
         },
         "name": "Ability to pick a time later in the day to pick up my order",
         "offsetgroup": "Ability to pick a time later in the day to pick up my order",
         "orientation": "v",
         "showlegend": true,
         "textposition": "auto",
         "type": "bar",
         "x": [
          "Once a week",
          "Once a week",
          "Once a week",
          "Once a month",
          "A few times a year",
          "Once a month",
          "Once a week",
          "A few times a year",
          "Once a week",
          "Once a week",
          "Every day",
          "A few times a year",
          "Once a week",
          "A few times a year",
          "Once a week",
          "Once a week",
          "Once a month",
          "Once a month",
          "Once a week",
          "A few times a year",
          "A few times a year",
          "A few times a year",
          "Once a month",
          "Once a week",
          "Once a week",
          "Once a week",
          "A few times a year",
          "A few times a year",
          "A few times a year",
          "Once a month",
          "A few times a year",
          "Every day",
          "A few times a year",
          "Once a month",
          "A few times a year",
          "Once a month",
          "Once a week",
          "Once a month",
          "Once a week",
          "A few times a year",
          "A few times a year",
          "Once a week",
          "A few times a year",
          "A few times a year",
          "Every day",
          "A few times a year",
          "Once a month",
          "A few times a year",
          "Once a week",
          "A few times a year",
          "Once a month",
          "Once a week",
          "Once a month",
          "A few times a year",
          "A few times a year",
          "A few times a year",
          "A few times a year",
          "Once a month",
          "A few times a year",
          "Every day",
          "Once a month",
          "Once a week",
          "A few times a year",
          "A few times a year",
          "A few times a year",
          "Once a week",
          "Every day",
          "Once a month",
          "A few times a year",
          "Once a week"
         ],
         "xaxis": "x",
         "y": [
          1,
          0,
          1,
          0,
          1,
          0,
          0,
          0,
          0,
          0,
          0,
          0,
          1,
          0,
          1,
          0,
          0,
          0,
          0,
          0,
          0,
          0,
          0,
          0,
          0,
          0,
          0,
          1,
          0,
          1,
          0,
          1,
          0,
          0,
          0,
          1,
          0,
          0,
          0,
          0,
          1,
          0,
          0,
          0,
          1,
          1,
          0,
          1,
          0,
          0,
          0,
          1,
          0,
          0,
          0,
          0,
          1,
          0,
          0,
          0,
          0,
          1,
          0,
          1,
          0,
          0,
          0,
          0,
          0,
          0
         ],
         "yaxis": "y"
        },
        {
         "alignmentgroup": "True",
         "hovertemplate": "variable=Ability to earn rewards or points for every order digital punch card<br>frequency=%{x}<br>value=%{y}<extra></extra>",
         "legendgroup": "Ability to earn rewards or points for every order digital punch card",
         "marker": {
          "color": "#00cc96",
          "pattern": {
           "shape": ""
          }
         },
         "name": "Ability to earn rewards or points for every order digital punch card",
         "offsetgroup": "Ability to earn rewards or points for every order digital punch card",
         "orientation": "v",
         "showlegend": true,
         "textposition": "auto",
         "type": "bar",
         "x": [
          "Once a week",
          "Once a week",
          "Once a week",
          "Once a month",
          "A few times a year",
          "Once a month",
          "Once a week",
          "A few times a year",
          "Once a week",
          "Once a week",
          "Every day",
          "A few times a year",
          "Once a week",
          "A few times a year",
          "Once a week",
          "Once a week",
          "Once a month",
          "Once a month",
          "Once a week",
          "A few times a year",
          "A few times a year",
          "A few times a year",
          "Once a month",
          "Once a week",
          "Once a week",
          "Once a week",
          "A few times a year",
          "A few times a year",
          "A few times a year",
          "Once a month",
          "A few times a year",
          "Every day",
          "A few times a year",
          "Once a month",
          "A few times a year",
          "Once a month",
          "Once a week",
          "Once a month",
          "Once a week",
          "A few times a year",
          "A few times a year",
          "Once a week",
          "A few times a year",
          "A few times a year",
          "Every day",
          "A few times a year",
          "Once a month",
          "A few times a year",
          "Once a week",
          "A few times a year",
          "Once a month",
          "Once a week",
          "Once a month",
          "A few times a year",
          "A few times a year",
          "A few times a year",
          "A few times a year",
          "Once a month",
          "A few times a year",
          "Every day",
          "Once a month",
          "Once a week",
          "A few times a year",
          "A few times a year",
          "A few times a year",
          "Once a week",
          "Every day",
          "Once a month",
          "A few times a year",
          "Once a week"
         ],
         "xaxis": "x",
         "y": [
          1,
          1,
          1,
          1,
          0,
          1,
          0,
          0,
          0,
          1,
          1,
          1,
          1,
          1,
          0,
          1,
          1,
          1,
          0,
          1,
          0,
          1,
          1,
          0,
          0,
          0,
          0,
          0,
          0,
          0,
          0,
          0,
          1,
          1,
          0,
          0,
          1,
          1,
          1,
          0,
          0,
          0,
          0,
          0,
          1,
          0,
          0,
          1,
          1,
          1,
          0,
          0,
          1,
          1,
          0,
          1,
          1,
          1,
          1,
          0,
          1,
          1,
          0,
          0,
          1,
          1,
          0,
          0,
          1,
          0
         ],
         "yaxis": "y"
        },
        {
         "alignmentgroup": "True",
         "hovertemplate": "variable=Ability to see what others have rated a drink before ordering<br>frequency=%{x}<br>value=%{y}<extra></extra>",
         "legendgroup": "Ability to see what others have rated a drink before ordering",
         "marker": {
          "color": "#ab63fa",
          "pattern": {
           "shape": ""
          }
         },
         "name": "Ability to see what others have rated a drink before ordering",
         "offsetgroup": "Ability to see what others have rated a drink before ordering",
         "orientation": "v",
         "showlegend": true,
         "textposition": "auto",
         "type": "bar",
         "x": [
          "Once a week",
          "Once a week",
          "Once a week",
          "Once a month",
          "A few times a year",
          "Once a month",
          "Once a week",
          "A few times a year",
          "Once a week",
          "Once a week",
          "Every day",
          "A few times a year",
          "Once a week",
          "A few times a year",
          "Once a week",
          "Once a week",
          "Once a month",
          "Once a month",
          "Once a week",
          "A few times a year",
          "A few times a year",
          "A few times a year",
          "Once a month",
          "Once a week",
          "Once a week",
          "Once a week",
          "A few times a year",
          "A few times a year",
          "A few times a year",
          "Once a month",
          "A few times a year",
          "Every day",
          "A few times a year",
          "Once a month",
          "A few times a year",
          "Once a month",
          "Once a week",
          "Once a month",
          "Once a week",
          "A few times a year",
          "A few times a year",
          "Once a week",
          "A few times a year",
          "A few times a year",
          "Every day",
          "A few times a year",
          "Once a month",
          "A few times a year",
          "Once a week",
          "A few times a year",
          "Once a month",
          "Once a week",
          "Once a month",
          "A few times a year",
          "A few times a year",
          "A few times a year",
          "A few times a year",
          "Once a month",
          "A few times a year",
          "Every day",
          "Once a month",
          "Once a week",
          "A few times a year",
          "A few times a year",
          "A few times a year",
          "Once a week",
          "Every day",
          "Once a month",
          "A few times a year",
          "Once a week"
         ],
         "xaxis": "x",
         "y": [
          0,
          1,
          1,
          0,
          0,
          0,
          1,
          0,
          0,
          1,
          0,
          0,
          0,
          0,
          0,
          0,
          0,
          0,
          1,
          0,
          0,
          1,
          0,
          0,
          0,
          0,
          0,
          1,
          1,
          0,
          0,
          0,
          0,
          0,
          0,
          0,
          0,
          0,
          0,
          0,
          0,
          0,
          0,
          0,
          0,
          1,
          0,
          0,
          0,
          0,
          1,
          1,
          0,
          0,
          0,
          0,
          0,
          1,
          0,
          0,
          0,
          0,
          1,
          0,
          0,
          0,
          0,
          1,
          1,
          0
         ],
         "yaxis": "y"
        },
        {
         "alignmentgroup": "True",
         "hovertemplate": "variable=Ability to invent your own drink, name it, and share it with friends on social media<br>frequency=%{x}<br>value=%{y}<extra></extra>",
         "legendgroup": "Ability to invent your own drink, name it, and share it with friends on social media",
         "marker": {
          "color": "#FFA15A",
          "pattern": {
           "shape": ""
          }
         },
         "name": "Ability to invent your own drink, name it, and share it with friends on social media",
         "offsetgroup": "Ability to invent your own drink, name it, and share it with friends on social media",
         "orientation": "v",
         "showlegend": true,
         "textposition": "auto",
         "type": "bar",
         "x": [
          "Once a week",
          "Once a week",
          "Once a week",
          "Once a month",
          "A few times a year",
          "Once a month",
          "Once a week",
          "A few times a year",
          "Once a week",
          "Once a week",
          "Every day",
          "A few times a year",
          "Once a week",
          "A few times a year",
          "Once a week",
          "Once a week",
          "Once a month",
          "Once a month",
          "Once a week",
          "A few times a year",
          "A few times a year",
          "A few times a year",
          "Once a month",
          "Once a week",
          "Once a week",
          "Once a week",
          "A few times a year",
          "A few times a year",
          "A few times a year",
          "Once a month",
          "A few times a year",
          "Every day",
          "A few times a year",
          "Once a month",
          "A few times a year",
          "Once a month",
          "Once a week",
          "Once a month",
          "Once a week",
          "A few times a year",
          "A few times a year",
          "Once a week",
          "A few times a year",
          "A few times a year",
          "Every day",
          "A few times a year",
          "Once a month",
          "A few times a year",
          "Once a week",
          "A few times a year",
          "Once a month",
          "Once a week",
          "Once a month",
          "A few times a year",
          "A few times a year",
          "A few times a year",
          "A few times a year",
          "Once a month",
          "A few times a year",
          "Every day",
          "Once a month",
          "Once a week",
          "A few times a year",
          "A few times a year",
          "A few times a year",
          "Once a week",
          "Every day",
          "Once a month",
          "A few times a year",
          "Once a week"
         ],
         "xaxis": "x",
         "y": [
          0,
          1,
          0,
          1,
          0,
          0,
          0,
          0,
          0,
          0,
          0,
          0,
          0,
          0,
          1,
          1,
          0,
          0,
          0,
          0,
          1,
          0,
          0,
          0,
          1,
          1,
          0,
          0,
          0,
          0,
          1,
          0,
          0,
          0,
          0,
          0,
          0,
          0,
          1,
          1,
          0,
          0,
          0,
          0,
          0,
          0,
          0,
          0,
          0,
          0,
          0,
          0,
          0,
          0,
          0,
          0,
          0,
          0,
          0,
          0,
          0,
          0,
          0,
          0,
          0,
          0,
          1,
          1,
          0,
          0
         ],
         "yaxis": "y"
        },
        {
         "alignmentgroup": "True",
         "hovertemplate": "variable=User interface that is easy to use<br>frequency=%{x}<br>value=%{y}<extra></extra>",
         "legendgroup": "User interface that is easy to use",
         "marker": {
          "color": "#19d3f3",
          "pattern": {
           "shape": ""
          }
         },
         "name": "User interface that is easy to use",
         "offsetgroup": "User interface that is easy to use",
         "orientation": "v",
         "showlegend": true,
         "textposition": "auto",
         "type": "bar",
         "x": [
          "Once a week",
          "Once a week",
          "Once a week",
          "Once a month",
          "A few times a year",
          "Once a month",
          "Once a week",
          "A few times a year",
          "Once a week",
          "Once a week",
          "Every day",
          "A few times a year",
          "Once a week",
          "A few times a year",
          "Once a week",
          "Once a week",
          "Once a month",
          "Once a month",
          "Once a week",
          "A few times a year",
          "A few times a year",
          "A few times a year",
          "Once a month",
          "Once a week",
          "Once a week",
          "Once a week",
          "A few times a year",
          "A few times a year",
          "A few times a year",
          "Once a month",
          "A few times a year",
          "Every day",
          "A few times a year",
          "Once a month",
          "A few times a year",
          "Once a month",
          "Once a week",
          "Once a month",
          "Once a week",
          "A few times a year",
          "A few times a year",
          "Once a week",
          "A few times a year",
          "A few times a year",
          "Every day",
          "A few times a year",
          "Once a month",
          "A few times a year",
          "Once a week",
          "A few times a year",
          "Once a month",
          "Once a week",
          "Once a month",
          "A few times a year",
          "A few times a year",
          "A few times a year",
          "A few times a year",
          "Once a month",
          "A few times a year",
          "Every day",
          "Once a month",
          "Once a week",
          "A few times a year",
          "A few times a year",
          "A few times a year",
          "Once a week",
          "Every day",
          "Once a month",
          "A few times a year",
          "Once a week"
         ],
         "xaxis": "x",
         "y": [
          0,
          0,
          0,
          1,
          1,
          0,
          1,
          1,
          1,
          0,
          1,
          1,
          1,
          0,
          0,
          0,
          0,
          0,
          0,
          0,
          0,
          0,
          1,
          0,
          1,
          0,
          1,
          0,
          0,
          1,
          0,
          1,
          1,
          0,
          1,
          0,
          1,
          1,
          0,
          0,
          0,
          1,
          0,
          1,
          1,
          1,
          0,
          1,
          1,
          1,
          0,
          1,
          0,
          1,
          1,
          1,
          1,
          0,
          1,
          1,
          0,
          0,
          0,
          1,
          1,
          1,
          1,
          0,
          0,
          1
         ],
         "yaxis": "y"
        },
        {
         "alignmentgroup": "True",
         "hovertemplate": "variable=Ability to favorite drinks<br>frequency=%{x}<br>value=%{y}<extra></extra>",
         "legendgroup": "Ability to favorite drinks",
         "marker": {
          "color": "#FF6692",
          "pattern": {
           "shape": ""
          }
         },
         "name": "Ability to favorite drinks",
         "offsetgroup": "Ability to favorite drinks",
         "orientation": "v",
         "showlegend": true,
         "textposition": "auto",
         "type": "bar",
         "x": [
          "Once a week",
          "Once a week",
          "Once a week",
          "Once a month",
          "A few times a year",
          "Once a month",
          "Once a week",
          "A few times a year",
          "Once a week",
          "Once a week",
          "Every day",
          "A few times a year",
          "Once a week",
          "A few times a year",
          "Once a week",
          "Once a week",
          "Once a month",
          "Once a month",
          "Once a week",
          "A few times a year",
          "A few times a year",
          "A few times a year",
          "Once a month",
          "Once a week",
          "Once a week",
          "Once a week",
          "A few times a year",
          "A few times a year",
          "A few times a year",
          "Once a month",
          "A few times a year",
          "Every day",
          "A few times a year",
          "Once a month",
          "A few times a year",
          "Once a month",
          "Once a week",
          "Once a month",
          "Once a week",
          "A few times a year",
          "A few times a year",
          "Once a week",
          "A few times a year",
          "A few times a year",
          "Every day",
          "A few times a year",
          "Once a month",
          "A few times a year",
          "Once a week",
          "A few times a year",
          "Once a month",
          "Once a week",
          "Once a month",
          "A few times a year",
          "A few times a year",
          "A few times a year",
          "A few times a year",
          "Once a month",
          "A few times a year",
          "Every day",
          "Once a month",
          "Once a week",
          "A few times a year",
          "A few times a year",
          "A few times a year",
          "Once a week",
          "Every day",
          "Once a month",
          "A few times a year",
          "Once a week"
         ],
         "xaxis": "x",
         "y": [
          0,
          0,
          0,
          0,
          0,
          1,
          0,
          1,
          0,
          0,
          1,
          1,
          0,
          1,
          1,
          0,
          0,
          1,
          1,
          1,
          0,
          1,
          1,
          0,
          0,
          1,
          1,
          1,
          0,
          0,
          1,
          0,
          1,
          1,
          1,
          1,
          1,
          0,
          1,
          1,
          1,
          0,
          1,
          1,
          0,
          0,
          0,
          0,
          1,
          0,
          1,
          0,
          1,
          1,
          1,
          1,
          0,
          1,
          0,
          1,
          1,
          0,
          1,
          0,
          0,
          1,
          0,
          0,
          0,
          1
         ],
         "yaxis": "y"
        },
        {
         "alignmentgroup": "True",
         "hovertemplate": "variable=Ability to view nutritional information of drinks<br>frequency=%{x}<br>value=%{y}<extra></extra>",
         "legendgroup": "Ability to view nutritional information of drinks",
         "marker": {
          "color": "#B6E880",
          "pattern": {
           "shape": ""
          }
         },
         "name": "Ability to view nutritional information of drinks",
         "offsetgroup": "Ability to view nutritional information of drinks",
         "orientation": "v",
         "showlegend": true,
         "textposition": "auto",
         "type": "bar",
         "x": [
          "Once a week",
          "Once a week",
          "Once a week",
          "Once a month",
          "A few times a year",
          "Once a month",
          "Once a week",
          "A few times a year",
          "Once a week",
          "Once a week",
          "Every day",
          "A few times a year",
          "Once a week",
          "A few times a year",
          "Once a week",
          "Once a week",
          "Once a month",
          "Once a month",
          "Once a week",
          "A few times a year",
          "A few times a year",
          "A few times a year",
          "Once a month",
          "Once a week",
          "Once a week",
          "Once a week",
          "A few times a year",
          "A few times a year",
          "A few times a year",
          "Once a month",
          "A few times a year",
          "Every day",
          "A few times a year",
          "Once a month",
          "A few times a year",
          "Once a month",
          "Once a week",
          "Once a month",
          "Once a week",
          "A few times a year",
          "A few times a year",
          "Once a week",
          "A few times a year",
          "A few times a year",
          "Every day",
          "A few times a year",
          "Once a month",
          "A few times a year",
          "Once a week",
          "A few times a year",
          "Once a month",
          "Once a week",
          "Once a month",
          "A few times a year",
          "A few times a year",
          "A few times a year",
          "A few times a year",
          "Once a month",
          "A few times a year",
          "Every day",
          "Once a month",
          "Once a week",
          "A few times a year",
          "A few times a year",
          "A few times a year",
          "Once a week",
          "Every day",
          "Once a month",
          "A few times a year",
          "Once a week"
         ],
         "xaxis": "x",
         "y": [
          0,
          0,
          0,
          0,
          0,
          0,
          0,
          0,
          1,
          1,
          0,
          0,
          0,
          0,
          0,
          0,
          0,
          0,
          0,
          0,
          0,
          0,
          0,
          1,
          1,
          0,
          0,
          0,
          1,
          1,
          0,
          0,
          0,
          0,
          0,
          0,
          0,
          0,
          0,
          0,
          1,
          1,
          0,
          1,
          0,
          0,
          1,
          0,
          0,
          0,
          0,
          0,
          0,
          0,
          0,
          0,
          0,
          0,
          1,
          0,
          0,
          0,
          0,
          0,
          1,
          0,
          1,
          0,
          0,
          0
         ],
         "yaxis": "y"
        },
        {
         "alignmentgroup": "True",
         "hovertemplate": "variable=Ability to get recommendations based on your preferences or mood<br>frequency=%{x}<br>value=%{y}<extra></extra>",
         "legendgroup": "Ability to get recommendations based on your preferences or mood",
         "marker": {
          "color": "#FF97FF",
          "pattern": {
           "shape": ""
          }
         },
         "name": "Ability to get recommendations based on your preferences or mood",
         "offsetgroup": "Ability to get recommendations based on your preferences or mood",
         "orientation": "v",
         "showlegend": true,
         "textposition": "auto",
         "type": "bar",
         "x": [
          "Once a week",
          "Once a week",
          "Once a week",
          "Once a month",
          "A few times a year",
          "Once a month",
          "Once a week",
          "A few times a year",
          "Once a week",
          "Once a week",
          "Every day",
          "A few times a year",
          "Once a week",
          "A few times a year",
          "Once a week",
          "Once a week",
          "Once a month",
          "Once a month",
          "Once a week",
          "A few times a year",
          "A few times a year",
          "A few times a year",
          "Once a month",
          "Once a week",
          "Once a week",
          "Once a week",
          "A few times a year",
          "A few times a year",
          "A few times a year",
          "Once a month",
          "A few times a year",
          "Every day",
          "A few times a year",
          "Once a month",
          "A few times a year",
          "Once a month",
          "Once a week",
          "Once a month",
          "Once a week",
          "A few times a year",
          "A few times a year",
          "Once a week",
          "A few times a year",
          "A few times a year",
          "Every day",
          "A few times a year",
          "Once a month",
          "A few times a year",
          "Once a week",
          "A few times a year",
          "Once a month",
          "Once a week",
          "Once a month",
          "A few times a year",
          "A few times a year",
          "A few times a year",
          "A few times a year",
          "Once a month",
          "A few times a year",
          "Every day",
          "Once a month",
          "Once a week",
          "A few times a year",
          "A few times a year",
          "A few times a year",
          "Once a week",
          "Every day",
          "Once a month",
          "A few times a year",
          "Once a week"
         ],
         "xaxis": "x",
         "y": [
          0,
          0,
          0,
          0,
          0,
          0,
          0,
          0,
          0,
          0,
          0,
          0,
          0,
          1,
          0,
          0,
          1,
          0,
          0,
          0,
          1,
          0,
          0,
          1,
          0,
          0,
          1,
          0,
          1,
          0,
          0,
          0,
          0,
          0,
          0,
          0,
          0,
          1,
          0,
          0,
          0,
          1,
          0,
          0,
          0,
          0,
          1,
          0,
          0,
          0,
          0,
          0,
          0,
          0,
          1,
          0,
          0,
          0,
          0,
          0,
          0,
          0,
          0,
          0,
          0,
          0,
          0,
          1,
          0,
          0
         ],
         "yaxis": "y"
        },
        {
         "alignmentgroup": "True",
         "hovertemplate": "variable=Ability to dislike drinks and hide them from the menu<br>frequency=%{x}<br>value=%{y}<extra></extra>",
         "legendgroup": "Ability to dislike drinks and hide them from the menu",
         "marker": {
          "color": "#FECB52",
          "pattern": {
           "shape": ""
          }
         },
         "name": "Ability to dislike drinks and hide them from the menu",
         "offsetgroup": "Ability to dislike drinks and hide them from the menu",
         "orientation": "v",
         "showlegend": true,
         "textposition": "auto",
         "type": "bar",
         "x": [
          "Once a week",
          "Once a week",
          "Once a week",
          "Once a month",
          "A few times a year",
          "Once a month",
          "Once a week",
          "A few times a year",
          "Once a week",
          "Once a week",
          "Every day",
          "A few times a year",
          "Once a week",
          "A few times a year",
          "Once a week",
          "Once a week",
          "Once a month",
          "Once a month",
          "Once a week",
          "A few times a year",
          "A few times a year",
          "A few times a year",
          "Once a month",
          "Once a week",
          "Once a week",
          "Once a week",
          "A few times a year",
          "A few times a year",
          "A few times a year",
          "Once a month",
          "A few times a year",
          "Every day",
          "A few times a year",
          "Once a month",
          "A few times a year",
          "Once a month",
          "Once a week",
          "Once a month",
          "Once a week",
          "A few times a year",
          "A few times a year",
          "Once a week",
          "A few times a year",
          "A few times a year",
          "Every day",
          "A few times a year",
          "Once a month",
          "A few times a year",
          "Once a week",
          "A few times a year",
          "Once a month",
          "Once a week",
          "Once a month",
          "A few times a year",
          "A few times a year",
          "A few times a year",
          "A few times a year",
          "Once a month",
          "A few times a year",
          "Every day",
          "Once a month",
          "Once a week",
          "A few times a year",
          "A few times a year",
          "A few times a year",
          "Once a week",
          "Every day",
          "Once a month",
          "A few times a year",
          "Once a week"
         ],
         "xaxis": "x",
         "y": [
          0,
          0,
          0,
          0,
          0,
          0,
          0,
          0,
          0,
          0,
          0,
          0,
          0,
          0,
          0,
          0,
          0,
          0,
          0,
          0,
          0,
          0,
          0,
          0,
          0,
          0,
          0,
          0,
          0,
          0,
          0,
          0,
          0,
          0,
          0,
          0,
          0,
          0,
          0,
          0,
          0,
          0,
          1,
          0,
          0,
          0,
          0,
          0,
          0,
          0,
          1,
          0,
          0,
          0,
          0,
          0,
          0,
          0,
          0,
          0,
          0,
          0,
          0,
          0,
          0,
          0,
          0,
          0,
          1,
          0
         ],
         "yaxis": "y"
        }
       ],
       "layout": {
        "barmode": "group",
        "legend": {
         "title": {
          "text": "Features"
         },
         "tracegroupgap": 0
        },
        "margin": {
         "t": 60
        },
        "template": {
         "data": {
          "bar": [
           {
            "error_x": {
             "color": "#2a3f5f"
            },
            "error_y": {
             "color": "#2a3f5f"
            },
            "marker": {
             "line": {
              "color": "#E5ECF6",
              "width": 0.5
             },
             "pattern": {
              "fillmode": "overlay",
              "size": 10,
              "solidity": 0.2
             }
            },
            "type": "bar"
           }
          ],
          "barpolar": [
           {
            "marker": {
             "line": {
              "color": "#E5ECF6",
              "width": 0.5
             },
             "pattern": {
              "fillmode": "overlay",
              "size": 10,
              "solidity": 0.2
             }
            },
            "type": "barpolar"
           }
          ],
          "carpet": [
           {
            "aaxis": {
             "endlinecolor": "#2a3f5f",
             "gridcolor": "white",
             "linecolor": "white",
             "minorgridcolor": "white",
             "startlinecolor": "#2a3f5f"
            },
            "baxis": {
             "endlinecolor": "#2a3f5f",
             "gridcolor": "white",
             "linecolor": "white",
             "minorgridcolor": "white",
             "startlinecolor": "#2a3f5f"
            },
            "type": "carpet"
           }
          ],
          "choropleth": [
           {
            "colorbar": {
             "outlinewidth": 0,
             "ticks": ""
            },
            "type": "choropleth"
           }
          ],
          "contour": [
           {
            "colorbar": {
             "outlinewidth": 0,
             "ticks": ""
            },
            "colorscale": [
             [
              0,
              "#0d0887"
             ],
             [
              0.1111111111111111,
              "#46039f"
             ],
             [
              0.2222222222222222,
              "#7201a8"
             ],
             [
              0.3333333333333333,
              "#9c179e"
             ],
             [
              0.4444444444444444,
              "#bd3786"
             ],
             [
              0.5555555555555556,
              "#d8576b"
             ],
             [
              0.6666666666666666,
              "#ed7953"
             ],
             [
              0.7777777777777778,
              "#fb9f3a"
             ],
             [
              0.8888888888888888,
              "#fdca26"
             ],
             [
              1,
              "#f0f921"
             ]
            ],
            "type": "contour"
           }
          ],
          "contourcarpet": [
           {
            "colorbar": {
             "outlinewidth": 0,
             "ticks": ""
            },
            "type": "contourcarpet"
           }
          ],
          "heatmap": [
           {
            "colorbar": {
             "outlinewidth": 0,
             "ticks": ""
            },
            "colorscale": [
             [
              0,
              "#0d0887"
             ],
             [
              0.1111111111111111,
              "#46039f"
             ],
             [
              0.2222222222222222,
              "#7201a8"
             ],
             [
              0.3333333333333333,
              "#9c179e"
             ],
             [
              0.4444444444444444,
              "#bd3786"
             ],
             [
              0.5555555555555556,
              "#d8576b"
             ],
             [
              0.6666666666666666,
              "#ed7953"
             ],
             [
              0.7777777777777778,
              "#fb9f3a"
             ],
             [
              0.8888888888888888,
              "#fdca26"
             ],
             [
              1,
              "#f0f921"
             ]
            ],
            "type": "heatmap"
           }
          ],
          "heatmapgl": [
           {
            "colorbar": {
             "outlinewidth": 0,
             "ticks": ""
            },
            "colorscale": [
             [
              0,
              "#0d0887"
             ],
             [
              0.1111111111111111,
              "#46039f"
             ],
             [
              0.2222222222222222,
              "#7201a8"
             ],
             [
              0.3333333333333333,
              "#9c179e"
             ],
             [
              0.4444444444444444,
              "#bd3786"
             ],
             [
              0.5555555555555556,
              "#d8576b"
             ],
             [
              0.6666666666666666,
              "#ed7953"
             ],
             [
              0.7777777777777778,
              "#fb9f3a"
             ],
             [
              0.8888888888888888,
              "#fdca26"
             ],
             [
              1,
              "#f0f921"
             ]
            ],
            "type": "heatmapgl"
           }
          ],
          "histogram": [
           {
            "marker": {
             "pattern": {
              "fillmode": "overlay",
              "size": 10,
              "solidity": 0.2
             }
            },
            "type": "histogram"
           }
          ],
          "histogram2d": [
           {
            "colorbar": {
             "outlinewidth": 0,
             "ticks": ""
            },
            "colorscale": [
             [
              0,
              "#0d0887"
             ],
             [
              0.1111111111111111,
              "#46039f"
             ],
             [
              0.2222222222222222,
              "#7201a8"
             ],
             [
              0.3333333333333333,
              "#9c179e"
             ],
             [
              0.4444444444444444,
              "#bd3786"
             ],
             [
              0.5555555555555556,
              "#d8576b"
             ],
             [
              0.6666666666666666,
              "#ed7953"
             ],
             [
              0.7777777777777778,
              "#fb9f3a"
             ],
             [
              0.8888888888888888,
              "#fdca26"
             ],
             [
              1,
              "#f0f921"
             ]
            ],
            "type": "histogram2d"
           }
          ],
          "histogram2dcontour": [
           {
            "colorbar": {
             "outlinewidth": 0,
             "ticks": ""
            },
            "colorscale": [
             [
              0,
              "#0d0887"
             ],
             [
              0.1111111111111111,
              "#46039f"
             ],
             [
              0.2222222222222222,
              "#7201a8"
             ],
             [
              0.3333333333333333,
              "#9c179e"
             ],
             [
              0.4444444444444444,
              "#bd3786"
             ],
             [
              0.5555555555555556,
              "#d8576b"
             ],
             [
              0.6666666666666666,
              "#ed7953"
             ],
             [
              0.7777777777777778,
              "#fb9f3a"
             ],
             [
              0.8888888888888888,
              "#fdca26"
             ],
             [
              1,
              "#f0f921"
             ]
            ],
            "type": "histogram2dcontour"
           }
          ],
          "mesh3d": [
           {
            "colorbar": {
             "outlinewidth": 0,
             "ticks": ""
            },
            "type": "mesh3d"
           }
          ],
          "parcoords": [
           {
            "line": {
             "colorbar": {
              "outlinewidth": 0,
              "ticks": ""
             }
            },
            "type": "parcoords"
           }
          ],
          "pie": [
           {
            "automargin": true,
            "type": "pie"
           }
          ],
          "scatter": [
           {
            "fillpattern": {
             "fillmode": "overlay",
             "size": 10,
             "solidity": 0.2
            },
            "type": "scatter"
           }
          ],
          "scatter3d": [
           {
            "line": {
             "colorbar": {
              "outlinewidth": 0,
              "ticks": ""
             }
            },
            "marker": {
             "colorbar": {
              "outlinewidth": 0,
              "ticks": ""
             }
            },
            "type": "scatter3d"
           }
          ],
          "scattercarpet": [
           {
            "marker": {
             "colorbar": {
              "outlinewidth": 0,
              "ticks": ""
             }
            },
            "type": "scattercarpet"
           }
          ],
          "scattergeo": [
           {
            "marker": {
             "colorbar": {
              "outlinewidth": 0,
              "ticks": ""
             }
            },
            "type": "scattergeo"
           }
          ],
          "scattergl": [
           {
            "marker": {
             "colorbar": {
              "outlinewidth": 0,
              "ticks": ""
             }
            },
            "type": "scattergl"
           }
          ],
          "scattermapbox": [
           {
            "marker": {
             "colorbar": {
              "outlinewidth": 0,
              "ticks": ""
             }
            },
            "type": "scattermapbox"
           }
          ],
          "scatterpolar": [
           {
            "marker": {
             "colorbar": {
              "outlinewidth": 0,
              "ticks": ""
             }
            },
            "type": "scatterpolar"
           }
          ],
          "scatterpolargl": [
           {
            "marker": {
             "colorbar": {
              "outlinewidth": 0,
              "ticks": ""
             }
            },
            "type": "scatterpolargl"
           }
          ],
          "scatterternary": [
           {
            "marker": {
             "colorbar": {
              "outlinewidth": 0,
              "ticks": ""
             }
            },
            "type": "scatterternary"
           }
          ],
          "surface": [
           {
            "colorbar": {
             "outlinewidth": 0,
             "ticks": ""
            },
            "colorscale": [
             [
              0,
              "#0d0887"
             ],
             [
              0.1111111111111111,
              "#46039f"
             ],
             [
              0.2222222222222222,
              "#7201a8"
             ],
             [
              0.3333333333333333,
              "#9c179e"
             ],
             [
              0.4444444444444444,
              "#bd3786"
             ],
             [
              0.5555555555555556,
              "#d8576b"
             ],
             [
              0.6666666666666666,
              "#ed7953"
             ],
             [
              0.7777777777777778,
              "#fb9f3a"
             ],
             [
              0.8888888888888888,
              "#fdca26"
             ],
             [
              1,
              "#f0f921"
             ]
            ],
            "type": "surface"
           }
          ],
          "table": [
           {
            "cells": {
             "fill": {
              "color": "#EBF0F8"
             },
             "line": {
              "color": "white"
             }
            },
            "header": {
             "fill": {
              "color": "#C8D4E3"
             },
             "line": {
              "color": "white"
             }
            },
            "type": "table"
           }
          ]
         },
         "layout": {
          "annotationdefaults": {
           "arrowcolor": "#2a3f5f",
           "arrowhead": 0,
           "arrowwidth": 1
          },
          "autotypenumbers": "strict",
          "coloraxis": {
           "colorbar": {
            "outlinewidth": 0,
            "ticks": ""
           }
          },
          "colorscale": {
           "diverging": [
            [
             0,
             "#8e0152"
            ],
            [
             0.1,
             "#c51b7d"
            ],
            [
             0.2,
             "#de77ae"
            ],
            [
             0.3,
             "#f1b6da"
            ],
            [
             0.4,
             "#fde0ef"
            ],
            [
             0.5,
             "#f7f7f7"
            ],
            [
             0.6,
             "#e6f5d0"
            ],
            [
             0.7,
             "#b8e186"
            ],
            [
             0.8,
             "#7fbc41"
            ],
            [
             0.9,
             "#4d9221"
            ],
            [
             1,
             "#276419"
            ]
           ],
           "sequential": [
            [
             0,
             "#0d0887"
            ],
            [
             0.1111111111111111,
             "#46039f"
            ],
            [
             0.2222222222222222,
             "#7201a8"
            ],
            [
             0.3333333333333333,
             "#9c179e"
            ],
            [
             0.4444444444444444,
             "#bd3786"
            ],
            [
             0.5555555555555556,
             "#d8576b"
            ],
            [
             0.6666666666666666,
             "#ed7953"
            ],
            [
             0.7777777777777778,
             "#fb9f3a"
            ],
            [
             0.8888888888888888,
             "#fdca26"
            ],
            [
             1,
             "#f0f921"
            ]
           ],
           "sequentialminus": [
            [
             0,
             "#0d0887"
            ],
            [
             0.1111111111111111,
             "#46039f"
            ],
            [
             0.2222222222222222,
             "#7201a8"
            ],
            [
             0.3333333333333333,
             "#9c179e"
            ],
            [
             0.4444444444444444,
             "#bd3786"
            ],
            [
             0.5555555555555556,
             "#d8576b"
            ],
            [
             0.6666666666666666,
             "#ed7953"
            ],
            [
             0.7777777777777778,
             "#fb9f3a"
            ],
            [
             0.8888888888888888,
             "#fdca26"
            ],
            [
             1,
             "#f0f921"
            ]
           ]
          },
          "colorway": [
           "#636efa",
           "#EF553B",
           "#00cc96",
           "#ab63fa",
           "#FFA15A",
           "#19d3f3",
           "#FF6692",
           "#B6E880",
           "#FF97FF",
           "#FECB52"
          ],
          "font": {
           "color": "#2a3f5f"
          },
          "geo": {
           "bgcolor": "white",
           "lakecolor": "white",
           "landcolor": "#E5ECF6",
           "showlakes": true,
           "showland": true,
           "subunitcolor": "white"
          },
          "hoverlabel": {
           "align": "left"
          },
          "hovermode": "closest",
          "mapbox": {
           "style": "light"
          },
          "paper_bgcolor": "white",
          "plot_bgcolor": "#E5ECF6",
          "polar": {
           "angularaxis": {
            "gridcolor": "white",
            "linecolor": "white",
            "ticks": ""
           },
           "bgcolor": "#E5ECF6",
           "radialaxis": {
            "gridcolor": "white",
            "linecolor": "white",
            "ticks": ""
           }
          },
          "scene": {
           "xaxis": {
            "backgroundcolor": "#E5ECF6",
            "gridcolor": "white",
            "gridwidth": 2,
            "linecolor": "white",
            "showbackground": true,
            "ticks": "",
            "zerolinecolor": "white"
           },
           "yaxis": {
            "backgroundcolor": "#E5ECF6",
            "gridcolor": "white",
            "gridwidth": 2,
            "linecolor": "white",
            "showbackground": true,
            "ticks": "",
            "zerolinecolor": "white"
           },
           "zaxis": {
            "backgroundcolor": "#E5ECF6",
            "gridcolor": "white",
            "gridwidth": 2,
            "linecolor": "white",
            "showbackground": true,
            "ticks": "",
            "zerolinecolor": "white"
           }
          },
          "shapedefaults": {
           "line": {
            "color": "#2a3f5f"
           }
          },
          "ternary": {
           "aaxis": {
            "gridcolor": "white",
            "linecolor": "white",
            "ticks": ""
           },
           "baxis": {
            "gridcolor": "white",
            "linecolor": "white",
            "ticks": ""
           },
           "bgcolor": "#E5ECF6",
           "caxis": {
            "gridcolor": "white",
            "linecolor": "white",
            "ticks": ""
           }
          },
          "title": {
           "x": 0.05
          },
          "xaxis": {
           "automargin": true,
           "gridcolor": "white",
           "linecolor": "white",
           "ticks": "",
           "title": {
            "standoff": 15
           },
           "zerolinecolor": "white",
           "zerolinewidth": 2
          },
          "yaxis": {
           "automargin": true,
           "gridcolor": "white",
           "linecolor": "white",
           "ticks": "",
           "title": {
            "standoff": 15
           },
           "zerolinecolor": "white",
           "zerolinewidth": 2
          }
         }
        },
        "title": {
         "text": "Frequency of Soda Shack Visits and Requested Features"
        },
        "xaxis": {
         "anchor": "y",
         "domain": [
          0,
          1
         ],
         "title": {
          "text": "Frequency"
         }
        },
        "yaxis": {
         "anchor": "x",
         "domain": [
          0,
          1
         ],
         "title": {
          "text": "Count"
         }
        }
       }
      }
     },
     "metadata": {},
     "output_type": "display_data"
    }
   ],
   "source": [
    "# interactively plot the features grouped by frequency\n",
    "import plotly.express as px\n",
    "fig = px.bar(featurefreq, x=\"frequency\", y=featurefreq.columns[1:], barmode=\"group\")\n",
    "fig.update_layout(xaxis_title=\"Frequency\", yaxis_title=\"Count\")\n",
    "fig.update_layout(title_text='Frequency of Soda Shack Visits and Requested Features')\n",
    "fig.update_layout(legend_title_text='Features')\n",
    "fig.show()"
   ]
  },
  {
   "cell_type": "code",
   "execution_count": 21,
   "metadata": {},
   "outputs": [
    {
     "ename": "NameError",
     "evalue": "name 'featurebyfreq' is not defined",
     "output_type": "error",
     "traceback": [
      "\u001b[1;31m---------------------------------------------------------------------------\u001b[0m",
      "\u001b[1;31mNameError\u001b[0m                                 Traceback (most recent call last)",
      "\u001b[1;32mc:\\Users\\CAleb\\source\\repos\\Cwighty\\soda\\data_analysis\\survey.ipynb Cell 11\u001b[0m in \u001b[0;36m3\n\u001b[0;32m      <a href='vscode-notebook-cell:/c%3A/Users/CAleb/source/repos/Cwighty/soda/data_analysis/survey.ipynb#X13sZmlsZQ%3D%3D?line=0'>1</a>\u001b[0m \u001b[39m# interactively plot the features\u001b[39;00m\n\u001b[0;32m      <a href='vscode-notebook-cell:/c%3A/Users/CAleb/source/repos/Cwighty/soda/data_analysis/survey.ipynb#X13sZmlsZQ%3D%3D?line=1'>2</a>\u001b[0m \u001b[39mimport\u001b[39;00m \u001b[39mplotly\u001b[39;00m\u001b[39m.\u001b[39;00m\u001b[39mexpress\u001b[39;00m \u001b[39mas\u001b[39;00m \u001b[39mpx\u001b[39;00m\n\u001b[1;32m----> <a href='vscode-notebook-cell:/c%3A/Users/CAleb/source/repos/Cwighty/soda/data_analysis/survey.ipynb#X13sZmlsZQ%3D%3D?line=2'>3</a>\u001b[0m dailyweekly \u001b[39m=\u001b[39m featurebyfreq[(featurebyfreq[\u001b[39m'\u001b[39m\u001b[39mfrequency\u001b[39m\u001b[39m'\u001b[39m] \u001b[39m==\u001b[39m \u001b[39m'\u001b[39m\u001b[39mEvery day\u001b[39m\u001b[39m'\u001b[39m) \u001b[39m|\u001b[39m (featurebyfreq[\u001b[39m'\u001b[39m\u001b[39mfrequency\u001b[39m\u001b[39m'\u001b[39m] \u001b[39m==\u001b[39m \u001b[39m'\u001b[39m\u001b[39mOnce a week\u001b[39m\u001b[39m'\u001b[39m)]\n\u001b[0;32m      <a href='vscode-notebook-cell:/c%3A/Users/CAleb/source/repos/Cwighty/soda/data_analysis/survey.ipynb#X13sZmlsZQ%3D%3D?line=3'>4</a>\u001b[0m \u001b[39m# graph totals of each feature\u001b[39;00m\n\u001b[0;32m      <a href='vscode-notebook-cell:/c%3A/Users/CAleb/source/repos/Cwighty/soda/data_analysis/survey.ipynb#X13sZmlsZQ%3D%3D?line=4'>5</a>\u001b[0m fig \u001b[39m=\u001b[39m px\u001b[39m.\u001b[39mbar(dailyweekly, x\u001b[39m=\u001b[39m\u001b[39m\"\u001b[39m\u001b[39mfrequency\u001b[39m\u001b[39m\"\u001b[39m, y\u001b[39m=\u001b[39mdailyweekly\u001b[39m.\u001b[39mcolumns[\u001b[39m1\u001b[39m:], barmode\u001b[39m=\u001b[39m\u001b[39m\"\u001b[39m\u001b[39mgroup\u001b[39m\u001b[39m\"\u001b[39m)\n",
      "\u001b[1;31mNameError\u001b[0m: name 'featurebyfreq' is not defined"
     ]
    }
   ],
   "source": [
    "# interactively plot the features\n",
    "import plotly.express as px\n",
    "dailyweekly = featurebyfreq[(featurebyfreq['frequency'] == 'Every day') | (featurebyfreq['frequency'] == 'Once a week')]\n",
    "# graph totals of each feature\n",
    "fig = px.bar(dailyweekly, x=\"frequency\", y=dailyweekly.columns[1:], barmode=\"group\")\n",
    "fig.update_layout(xaxis_title=\"Frequency\", yaxis_title=\"Count\")\n",
    "fig.update_layout(title_text='Frequency of Soda Shack Visits and Requested Features')\n",
    "fig.update_layout(legend_title_text='Features')\n",
    "fig.show()\n"
   ]
  }
 ],
 "metadata": {
  "kernelspec": {
   "display_name": "Python 3",
   "language": "python",
   "name": "python3"
  },
  "language_info": {
   "codemirror_mode": {
    "name": "ipython",
    "version": 3
   },
   "file_extension": ".py",
   "mimetype": "text/x-python",
   "name": "python",
   "nbconvert_exporter": "python",
   "pygments_lexer": "ipython3",
   "version": "3.10.9"
  },
  "orig_nbformat": 4
 },
 "nbformat": 4,
 "nbformat_minor": 2
}
